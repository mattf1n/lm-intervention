{
 "cells": [
  {
   "cell_type": "code",
   "execution_count": 66,
   "metadata": {
    "collapsed": true,
    "pycharm": {
     "is_executing": false,
     "name": "#%%\n"
    }
   },
   "outputs": [
    {
     "name": "stdout",
     "text": [
      "Outlier 0.6028453911945199 1.0677371469663122\n\n"
     ],
     "output_type": "stream"
    }
   ],
   "source": [
    "import json \n",
    "import numpy as np\n",
    "from tqdm import tqdm_notebook\n",
    "from sklearn.linear_model import LinearRegression\n",
    "import pandas as pd\n",
    "import seaborn as sns; sns.set()\n",
    "from matplotlib import pyplot as plt\n",
    "\n",
    "model = 'gpt2'\n",
    "filter = 'filtered'\n",
    "split = 'dev'\n",
    "dataset = 'winobias'\n",
    "\n",
    "# Plot y_{set-gender,z_set-gender}(u) - y_{set-gender,z_null(u)}(u) by\n",
    "#  \t y_{null,z_set-gender(u)}(u) -  y_{null,z_null} (u)\n",
    "\n",
    "fname = f\"{dataset}_data/attention_intervention_{model}_{filter}_{split}.json\"\n",
    "with open(fname) as f:\n",
    "\tdata = json.load(f)\n",
    "x = []\n",
    "y = []\n",
    "for result in data['results']:\n",
    "\ty_null_z_set_gender = np.array(result['indirect_odds_head'])\n",
    "\ty_null_z_null = np.array(result['odds_base'])\n",
    "\tx.extend(( (y_null_z_set_gender - y_null_z_null) / y_null_z_null).flatten().tolist())\n",
    "\ty_set_gender_z_set_gender = np.array(result['odds_alt'])\n",
    "\ty_set_gender_z_null = np.array(result['direct_odds_head'])\n",
    "\ty.extend(((y_set_gender_z_set_gender - y_set_gender_z_null)/y_null_z_null).flatten().tolist())\n",
    "\t\n",
    "assert len(x) == len(y) == 144 * len(data['results'])\n",
    "x = np.array(x)\n",
    "y = np.array(y)\n",
    "for i in range(len(x)):\n",
    "\tif x[i] > 0.5 or y[i] > 0.5:\n",
    "\t\tprint(\"Outlier\", x[i], y[i])\n",
    "print()"
   ]
  },
  {
   "cell_type": "code",
   "execution_count": 67,
   "outputs": [
    {
     "name": "stdout",
     "text": [
      "CUTOFF None\n1.04140 -0.00010\n0.7798174314556029\nchanging coefficient to 1\n1.00000\n0.7785719609399814\n"
     ],
     "output_type": "stream"
    },
    {
     "data": {
      "text/plain": "<Figure size 216x208.8 with 1 Axes>",
      "image/png": "[encoded data removed]"
     },
     "metadata": {},
     "output_type": "display_data"
    }
   ],
   "source": [
    "# data = np.array(zip(x, y))\n",
    "cutoff = None\n",
    "print('CUTOFF', cutoff)\n",
    "if cutoff is not None:\n",
    "\tbox = np.where((x < cutoff) & (x > -cutoff) & (y < cutoff) & (y > -cutoff))\n",
    "\ty_box = y[box]\n",
    "\tx_box = x[box]\n",
    "else:\n",
    "\ty_box = y\n",
    "\tx_box = x\n",
    "X = x_box.reshape(-1, 1)\n",
    "Y = y_box.reshape(-1, 1)\n",
    "reg = LinearRegression(fit_intercept=True).fit(X, Y)\n",
    "print(f\"{reg.coef_[0].item():.5f}\", f\"{reg.intercept_.item():.5f}\")#, {reg.intercept_:.5f}\")\n",
    "print(reg.score(X, Y))\n",
    "reg.coef_[0] = 1\n",
    "print(\"changing coefficient to 1\")\n",
    "print(f\"{reg.coef_[0].item():.5f}\")#, {reg.intercept_:.5f}\")\n",
    "print(reg.score(X, Y))\n",
    "\n",
    "df = pd.DataFrame({'x': x_box, 'y': y_box})\n",
    "# fig, ax = plt.subplots(figsize=(20,20))\n",
    "# g = sns.lmplot(x='x', y='y', data=df, scatter_kws={\"s\": .2})\n",
    "\n",
    "plt.rc('text', usetex=True)\n",
    "plt.rcParams.update({\n",
    "    \"text.latex.preamble\": [\n",
    "         \"\\\\usepackage{amsmath}\",\n",
    "\t\t   \"\\\\usepackage{amssymb}\",\n",
    "\t\t \t\"\\\\usepackage{times}\",\n",
    "\t\t\t\"\\\\usepackage{latexsym}\",\n",
    "\t\t\t\"\\\\usepackage{graphicx}\",\n",
    "\t\t\t\"\\\\usepackage{wrapfig}\",\n",
    "\t\t\t\"\\\\usepackage{booktabs}\",\n",
    "\t\t \t\"\\\\usepackage{array}\",\n",
    "\t\t \t\"\\\\usepackage{siunitx}\",\n",
    "\t\t\t\"\\\\usepackage{color,soul}\",\n",
    "\t\t\t\"\\\\usepackage{tikz}\",\n",
    "\t\t\t\"\\\\usetikzlibrary{bayesnet}\",\n",
    "\t\t \t\"\\\\usepackage{microtype}\",\n",
    "\t\t \"\\\\usepackage{amsmath,amsfonts,bm}\",#\n",
    "#\t\t \"\\\\DeclareMathSizes{18}{34}{14}{12}\"\n",
    "\t ]\n",
    "})\n",
    "# plt.rcParams.update({\n",
    "#     \"text.latex.preamble\": [\n",
    "# \t\t \t\"\\\\documentclass[11pt,a4paper]{article}\",\n",
    "# \t\t\t\"\\\\usepackage[hyperref]{acl2020}\",\n",
    "#          \"\\\\usepackage{amsmath}\",\n",
    "# \t\t   \"\\\\usepackage{amssymb}\",\n",
    "# \t\t \t\"\\\\usepackage{times}\",\n",
    "# \t\t\t\"\\\\usepackage{latexsym}\",\n",
    "# \t\t\t\"\\\\usepackage{graphicx}\",\n",
    "# \t\t\t\"\\\\usepackage{wrapfig}\",\n",
    "# \t\t\t\"\\\\usepackage{booktabs}\",\n",
    "# \t\t \t\"\\\\usepackage{array}\",\n",
    "# \t\t \t\"\\\\usepackage{siunitx}\",\n",
    "# \t\t\t\"\\\\usepackage{color,soul}\",\n",
    "# \t\t\t\"\\\\usepackage{tikz}\",\n",
    "# \t\t\t\"\\\\usetikzlibrary{bayesnet}\",\n",
    "# \t\t \t\"\\\\usepackage{microtype}\",\n",
    "# \t\t \"\\\\usepackage{amsmath,amsfonts,bm}\",#\n",
    "# #\t\t \"\\\\DeclareMathSizes{18}{34}{14}{12}\"\n",
    "# \t ]\n",
    "# })\n",
    "\n",
    "# plt.rcParams['mathtext.default']='regular'\n",
    "plt.figure(figsize=(3,2.9))\n",
    "g = sns.regplot(x='x', y='y', data=df, scatter_kws={\"s\": 1})#,line_kws={'color':'green'})\n",
    "# g = sns.lmplot(x='x', y='y', data=df, size=3, aspect=1, scatter_kws={\"s\": .5})\n",
    "\n",
    "plt.axis('equal')\n",
    "# if cutoff is not None:\n",
    "# \tg.set(xlim=(-cutoff, cutoff))\n",
    "# \tg.set(ylim=(-cutoff, cutoff))\n",
    "# else:\n",
    "# \tg.set_xlim([-.2, 1.2])\n",
    "# \tg.set_xlim([-.2, 1.2])\n",
    "\n",
    "# Exclude 1 outlier\n",
    "# start, end = ax.get_xlim()\n",
    "# \n",
    "# ax.xaxis.set_ticks(np.arange(start, end, 0.712123))\n",
    "# ax.xaxis.set_major_formatter(ticker.FormatStrFormatter('%0.1f'))\n",
    "# g.set_xticks(g.get_yticks())\n",
    "g.xaxis.set_ticks([-.1, 0, .1, .2, .3, .4, .5])\n",
    "g.yaxis.set_ticks([-.1, 0, .1, .2, .3, .4, .5])\n",
    "# g.set(xlabel=r'$\\text{Hello}$')\n",
    "g.set(xlabel=r'$\\frac{\\mathbf{y}_{\\texttt{null},\\mathbf{z}_{\\texttt{set-gender}}(u)}(u) -  \\mathbf{y}_{\\texttt{null}}(u)}{\\mathbf{y}_{\\texttt{null}}(u)}$',\n",
    "\t\tylabel=r'$\\frac{\\mathbf{y}_{\\texttt{set-gender}}(u) -  \\mathbf{y}_{\\texttt{set-gender},\\mathbf{z}_{\\texttt{null}}(u)}(u)}{\\mathbf{y}_{\\texttt{null}}(u)}$')\n",
    "g.tick_params(axis='x', pad=1, length=2)\n",
    "g.tick_params(axis='y', pad=1, length=2)\n",
    "g.xaxis.labelpad = 6\n",
    "g.yaxis.labelpad = 2\n",
    "plt.setp(g.get_yticklabels(), fontsize=7)\n",
    "plt.setp(g.get_xticklabels(), fontsize=7)\n",
    "# g.set_xlim([-.2, 0.5])\n",
    "# g.set_xlim([-.2, 0.5])\n",
    "g.set(xlim=(-0.12, 0.5), ylim=(-0.12, 0.5))\n",
    "\n",
    "plt.tight_layout()\n",
    "plt.savefig(f'results/attention_intervention/te_equation_plot.pdf', format='pdf')\n",
    "            "
   ],
   "metadata": {
    "collapsed": false,
    "pycharm": {
     "name": "#%%\n",
     "is_executing": false
    }
   }
  }
 ],
 "metadata": {
  "kernelspec": {
   "display_name": "Python 3",
   "language": "python",
   "name": "python3"
  },
  "language_info": {
   "codemirror_mode": {
    "name": "ipython",
    "version": 2
   },
   "file_extension": ".py",
   "mimetype": "text/x-python",
   "name": "python",
   "nbconvert_exporter": "python",
   "pygments_lexer": "ipython2",
   "version": "2.7.6"
  },
  "pycharm": {
   "stem_cell": {
    "cell_type": "raw",
    "source": [],
    "metadata": {
     "collapsed": false
    }
   }
  }
 },
 "nbformat": 4,
 "nbformat_minor": 0
}