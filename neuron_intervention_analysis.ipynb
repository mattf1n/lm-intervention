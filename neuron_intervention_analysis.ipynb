{
 "cells": [
  {
   "cell_type": "code",
   "execution_count": 69,
   "metadata": {},
   "outputs": [],
   "source": [
    "import pandas as pd\n",
    "import matplotlib.pyplot as plt\n",
    "import seaborn as sns; sns.set()"
   ]
  },
  {
   "cell_type": "code",
   "execution_count": 70,
   "metadata": {},
   "outputs": [],
   "source": [
    "def analyze_effect_results(intervention_results_df, effect, word, alt):\n",
    "    \n",
    "    # calculate odds\n",
    "    odds_base = results_df['candidate2_base_prob'] / results_df['candidate1_base_prob']\n",
    "    odds_intervention = results_df['candidate2_prob'] / results_df['candidate1_prob']\n",
    "    odds_ratio = odds_intervention / odds_base\n",
    "    results_df['odds_ratio'] = odds_ratio\n",
    "    \n",
    "    if word == 'all':\n",
    "        # average over words\n",
    "        results_df = results_df.groupby(['layer', 'neuron'], as_index=False).mean()\n",
    "        print('averaging over words')\n",
    "    else:\n",
    "        # choose one word\n",
    "        results_df = results_df[results_df['word'] == word]\n",
    "        print('selecting word', word)\n",
    "\n",
    "    results_df = results_df.pivot('neuron', 'layer', 'odds_ratio')\n",
    "\n",
    "    print('Effect:', effect.upper())\n",
    "    if effect=='indirect':\n",
    "        print(\"Intervention: replace Neuron(x) with Neuron(x') in a specific layer/neuron\")\n",
    "    elif effect == 'direct':\n",
    "        print(\"Intervention: replace x with x' while preserving Neuron(x) in a specific layer/neuron\")\n",
    "    else:\n",
    "        raise ValueError(f\"Invalid effect: {effect}\")\n",
    "\n",
    "    candidate1, candidate2 = 'he', 'she'\n",
    "    profession = 'PROFESSION' if word == all else word\n",
    "    print(f\"x : The {profession} said that\")\n",
    "    print(f\"x': The {alt} said that\")\n",
    "    print(\"Input value: x\")\n",
    "    print(f\"Continuations compared: {candidate1} / {candidate2}\")\n",
    "#     print(f\"p({candidate2}|x) / p({candidate1}|x) : {candidate2_base_prob / candidate1_base_prob:.2f}\")\n",
    "#     print(f\"p({candidate2}|x') / p({candidate1}|x') : {candidate2_alt_prob / candidate1_alt_prob:.2f}\")\n",
    "    print()        \n",
    "    if effect == 'indirect':\n",
    "        print(f'Odds ratio (p(\"she\"|x, Neuron(x\\')) / p(\"he\"|x, Neuron(x\\')) / (p(\"she\"|x) / p(\"he\"|x)):')\n",
    "    elif effect == 'direct':\n",
    "        print(f'Odds ratio (p(\"she\"|x\\', Neuron(x)) / p(\"he\"|x\\', Neuron(x) / (p(\"she\"|x) / p(\"he\"|x)):')\n",
    "\n",
    "    plt.figure(figsize=(6,30)) \n",
    "    sns.heatmap(results_df) #, annot=True, annot_kws={\"size\": 12}, fmt=\".2f\")\n"
   ]
  },
  {
   "cell_type": "code",
   "execution_count": null,
   "metadata": {},
   "outputs": [],
   "source": []
  },
  {
   "cell_type": "code",
   "execution_count": 71,
   "metadata": {},
   "outputs": [
    {
     "ename": "UnboundLocalError",
     "evalue": "local variable 'results_df' referenced before assignment",
     "output_type": "error",
     "traceback": [
      "\u001b[0;31m---------------------------------------------------------------------------\u001b[0m",
      "\u001b[0;31mUnboundLocalError\u001b[0m                         Traceback (most recent call last)",
      "\u001b[0;32m<ipython-input-71-3bed43815564>\u001b[0m in \u001b[0;36m<module>\u001b[0;34m\u001b[0m\n\u001b[1;32m      2\u001b[0m \u001b[0mfilename\u001b[0m \u001b[0;34m=\u001b[0m \u001b[0;34m\"lm_intervention_professions_woman_indirect_alpha1.csv\"\u001b[0m\u001b[0;34m\u001b[0m\u001b[0;34m\u001b[0m\u001b[0m\n\u001b[1;32m      3\u001b[0m \u001b[0mresults_df\u001b[0m \u001b[0;34m=\u001b[0m \u001b[0mpd\u001b[0m\u001b[0;34m.\u001b[0m\u001b[0mread_csv\u001b[0m\u001b[0;34m(\u001b[0m\u001b[0mfilename\u001b[0m\u001b[0;34m)\u001b[0m\u001b[0;34m\u001b[0m\u001b[0;34m\u001b[0m\u001b[0m\n\u001b[0;32m----> 4\u001b[0;31m \u001b[0manalyze_effect_results\u001b[0m\u001b[0;34m(\u001b[0m\u001b[0mresults_df\u001b[0m\u001b[0;34m,\u001b[0m \u001b[0;34m'indirect'\u001b[0m\u001b[0;34m,\u001b[0m \u001b[0;34m'teacher'\u001b[0m\u001b[0;34m,\u001b[0m \u001b[0;34m'woman'\u001b[0m\u001b[0;34m)\u001b[0m\u001b[0;34m\u001b[0m\u001b[0;34m\u001b[0m\u001b[0m\n\u001b[0m\u001b[1;32m      5\u001b[0m \u001b[0manalyze_effect_results\u001b[0m\u001b[0;34m(\u001b[0m\u001b[0mresults_df\u001b[0m\u001b[0;34m,\u001b[0m \u001b[0;34m'indirect'\u001b[0m\u001b[0;34m,\u001b[0m \u001b[0;34m'all'\u001b[0m\u001b[0;34m,\u001b[0m \u001b[0;34m'woman'\u001b[0m\u001b[0;34m)\u001b[0m\u001b[0;34m\u001b[0m\u001b[0;34m\u001b[0m\u001b[0m\n\u001b[1;32m      6\u001b[0m \u001b[0;34m\u001b[0m\u001b[0m\n",
      "\u001b[0;32m<ipython-input-70-83237b32b9c3>\u001b[0m in \u001b[0;36manalyze_effect_results\u001b[0;34m(intervention_results_df, effect, word, alt)\u001b[0m\n\u001b[1;32m      2\u001b[0m \u001b[0;34m\u001b[0m\u001b[0m\n\u001b[1;32m      3\u001b[0m     \u001b[0;31m# calculate odds\u001b[0m\u001b[0;34m\u001b[0m\u001b[0;34m\u001b[0m\u001b[0;34m\u001b[0m\u001b[0m\n\u001b[0;32m----> 4\u001b[0;31m     \u001b[0modds_base\u001b[0m \u001b[0;34m=\u001b[0m \u001b[0mresults_df\u001b[0m\u001b[0;34m[\u001b[0m\u001b[0;34m'candidate2_base_prob'\u001b[0m\u001b[0;34m]\u001b[0m \u001b[0;34m/\u001b[0m \u001b[0mresults_df\u001b[0m\u001b[0;34m[\u001b[0m\u001b[0;34m'candidate1_base_prob'\u001b[0m\u001b[0;34m]\u001b[0m\u001b[0;34m\u001b[0m\u001b[0;34m\u001b[0m\u001b[0m\n\u001b[0m\u001b[1;32m      5\u001b[0m     \u001b[0modds_intervention\u001b[0m \u001b[0;34m=\u001b[0m \u001b[0mresults_df\u001b[0m\u001b[0;34m[\u001b[0m\u001b[0;34m'candidate2_prob'\u001b[0m\u001b[0;34m]\u001b[0m \u001b[0;34m/\u001b[0m \u001b[0mresults_df\u001b[0m\u001b[0;34m[\u001b[0m\u001b[0;34m'candidate1_prob'\u001b[0m\u001b[0;34m]\u001b[0m\u001b[0;34m\u001b[0m\u001b[0;34m\u001b[0m\u001b[0m\n\u001b[1;32m      6\u001b[0m     \u001b[0modds_ratio\u001b[0m \u001b[0;34m=\u001b[0m \u001b[0modds_intervention\u001b[0m \u001b[0;34m/\u001b[0m \u001b[0modds_base\u001b[0m\u001b[0;34m\u001b[0m\u001b[0;34m\u001b[0m\u001b[0m\n",
      "\u001b[0;31mUnboundLocalError\u001b[0m: local variable 'results_df' referenced before assignment"
     ]
    }
   ],
   "source": [
    "#filename = \"tmp.csv\"\n",
    "filename = \"lm_intervention_professions_woman_indirect_alpha1.csv\"\n",
    "results_df = pd.read_csv(filename)\n",
    "analyze_effect_results(results_df, 'indirect', 'teacher', 'woman')\n",
    "analyze_effect_results(results_df, 'indirect', 'all', 'woman')\n",
    "\n"
   ]
  },
  {
   "cell_type": "code",
   "execution_count": null,
   "metadata": {},
   "outputs": [],
   "source": [
    "filename = \"lm_intervention_professions_woman_direct_alpha1.csv\"\n",
    "results_df = pd.read_csv(filename)\n",
    "analyze_effect_results(results_df, 'direct', 'teacher', 'woman')\n",
    "analyze_effect_results(results_df, 'direct', 'all', 'woman')\n"
   ]
  },
  {
   "cell_type": "code",
   "execution_count": null,
   "metadata": {},
   "outputs": [],
   "source": [
    "filename = \"lm_intervention_professions_man_indirect_alpha1.csv\"\n",
    "results_df = pd.read_csv(filename)\n",
    "analyze_effect_results(results_df, 'indirect', 'teacher', 'man')\n",
    "analyze_effect_results(results_df, 'indirect', 'all', 'man')\n",
    "\n"
   ]
  },
  {
   "cell_type": "code",
   "execution_count": null,
   "metadata": {},
   "outputs": [],
   "source": [
    "filename = \"lm_intervention_professions_man_direct_alpha1.csv\"\n",
    "results_df = pd.read_csv(filename)\n",
    "analyze_effect_results(results_df, 'direct', 'teacher', 'man')\n",
    "analyze_effect_results(results_df, 'direct', 'all', 'man')\n",
    "\n"
   ]
  }
 ],
 "metadata": {
  "kernelspec": {
   "display_name": "Python 3",
   "language": "python",
   "name": "python3"
  },
  "language_info": {
   "codemirror_mode": {
    "name": "ipython",
    "version": 3
   },
   "file_extension": ".py",
   "mimetype": "text/x-python",
   "name": "python",
   "nbconvert_exporter": "python",
   "pygments_lexer": "ipython3",
   "version": "3.7.3"
  }
 },
 "nbformat": 4,
 "nbformat_minor": 2
}
