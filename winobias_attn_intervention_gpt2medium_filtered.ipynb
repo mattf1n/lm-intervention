{
 "cells": [
  {
   "cell_type": "code",
   "execution_count": 1,
   "outputs": [],
   "source": [
    "FROM_CACHE = False\n",
    "GPT2_VERSION = 'gpt2-medium'"
   ],
   "metadata": {
    "collapsed": false,
    "pycharm": {
     "name": "#%%\n",
     "is_executing": false
    }
   }
  },
  {
   "cell_type": "code",
   "execution_count": 2,
   "outputs": [
    {
     "name": "stderr",
     "text": [
      "To use data.metrics please install scikit-learn. See https://scikit-learn.org/stable/index.html\n"
     ],
     "output_type": "stream"
    }
   ],
   "source": [
    "import winobias\n",
    "from experiment import Model\n",
    "from attention_utils import report_interventions_summary_by_head, report_interventions_summary_by_layer, report_intervention, perform_interventions\n",
    "from transformers import GPT2Tokenizer\n",
    "import json"
   ],
   "metadata": {
    "collapsed": false,
    "pycharm": {
     "name": "#%%\n",
     "is_executing": false
    }
   }
  },
  {
   "cell_type": "markdown",
   "source": [
    "## Dev Set Results GPT2-Medium (filtering on odds ratio): "
   ],
   "metadata": {
    "collapsed": false
   }
  },
  {
   "cell_type": "code",
   "execution_count": null,
   "outputs": [
    {
     "name": "stdout",
     "text": [
      "Split: DEV, Filtered: False\nLoaded 160 pairs. Skipped 38 pairs.\n"
     ],
     "output_type": "stream"
    },
    {
     "name": "stderr",
     "text": [
      "\r  0%|          | 0/160 [00:00<?, ?it/s]",
      "\r  1%|          | 1/160 [00:01<03:23,  1.28s/it]",
      "\r  1%|▏         | 2/160 [00:02<03:20,  1.27s/it]",
      "\r  2%|▏         | 3/160 [00:03<03:16,  1.25s/it]",
      "\r  2%|▎         | 4/160 [00:05<03:16,  1.26s/it]",
      "\r  3%|▎         | 5/160 [00:06<03:15,  1.26s/it]",
      "\r  4%|▍         | 6/160 [00:07<03:14,  1.26s/it]",
      "\r  4%|▍         | 7/160 [00:08<03:07,  1.22s/it]",
      "\r  5%|▌         | 8/160 [00:09<03:07,  1.23s/it]",
      "\r  6%|▌         | 9/160 [00:11<03:01,  1.20s/it]",
      "\r  6%|▋         | 10/160 [00:12<03:04,  1.23s/it]",
      "\r  7%|▋         | 11/160 [00:13<03:02,  1.22s/it]",
      "\r  8%|▊         | 12/160 [00:14<03:04,  1.25s/it]",
      "\r  8%|▊         | 13/160 [00:16<03:00,  1.23s/it]",
      "\r  9%|▉         | 14/160 [00:17<02:59,  1.23s/it]",
      "\r  9%|▉         | 15/160 [00:18<02:56,  1.22s/it]",
      "\r 10%|█         | 16/160 [00:19<02:55,  1.22s/it]",
      "\r 11%|█         | 17/160 [00:21<02:59,  1.26s/it]",
      "\r 11%|█▏        | 18/160 [00:22<02:56,  1.24s/it]",
      "\r 12%|█▏        | 19/160 [00:23<03:01,  1.28s/it]",
      "\r 12%|█▎        | 20/160 [00:24<02:56,  1.26s/it]",
      "\r 13%|█▎        | 21/160 [00:26<03:19,  1.44s/it]",
      "\r 14%|█▍        | 22/160 [00:27<03:11,  1.39s/it]",
      "\r 14%|█▍        | 23/160 [00:29<03:01,  1.33s/it]",
      "\r 15%|█▌        | 24/160 [00:30<02:55,  1.29s/it]",
      "\r 16%|█▌        | 25/160 [00:31<02:55,  1.30s/it]",
      "\r 16%|█▋        | 26/160 [00:32<02:50,  1.27s/it]",
      "\r 17%|█▋        | 27/160 [00:34<02:52,  1.30s/it]",
      "\r 18%|█▊        | 28/160 [00:35<02:51,  1.30s/it]",
      "\r 18%|█▊        | 29/160 [00:36<02:54,  1.33s/it]",
      "\r 19%|█▉        | 30/160 [00:38<02:57,  1.37s/it]",
      "\r 19%|█▉        | 31/160 [00:40<03:06,  1.45s/it]",
      "\r 20%|██        | 32/160 [00:41<02:59,  1.40s/it]",
      "\r 21%|██        | 33/160 [00:42<03:00,  1.42s/it]",
      "\r 21%|██▏       | 34/160 [00:44<03:03,  1.45s/it]",
      "\r 22%|██▏       | 35/160 [00:45<03:06,  1.49s/it]",
      "\r 22%|██▎       | 36/160 [00:47<03:06,  1.50s/it]",
      "\r 23%|██▎       | 37/160 [00:48<02:58,  1.45s/it]",
      "\r 24%|██▍       | 38/160 [00:50<03:00,  1.48s/it]",
      "\r 24%|██▍       | 39/160 [00:51<02:58,  1.48s/it]",
      "\r 25%|██▌       | 40/160 [00:53<02:59,  1.49s/it]",
      "\r 26%|██▌       | 41/160 [00:54<02:51,  1.44s/it]",
      "\r 26%|██▋       | 42/160 [00:56<02:49,  1.44s/it]",
      "\r 27%|██▋       | 43/160 [00:57<02:44,  1.41s/it]",
      "\r 28%|██▊       | 44/160 [00:58<02:42,  1.40s/it]",
      "\r 28%|██▊       | 45/160 [01:00<02:45,  1.44s/it]",
      "\r 29%|██▉       | 46/160 [01:01<02:48,  1.47s/it]",
      "\r 29%|██▉       | 47/160 [01:03<02:40,  1.42s/it]",
      "\r 30%|███       | 48/160 [01:04<02:36,  1.40s/it]",
      "\r 31%|███       | 49/160 [01:05<02:30,  1.35s/it]",
      "\r 31%|███▏      | 50/160 [01:06<02:24,  1.31s/it]",
      "\r 32%|███▏      | 51/160 [01:08<02:17,  1.26s/it]",
      "\r 32%|███▎      | 52/160 [01:09<02:13,  1.24s/it]",
      "\r 33%|███▎      | 53/160 [01:10<02:16,  1.27s/it]",
      "\r 34%|███▍      | 54/160 [01:11<02:14,  1.27s/it]"
     ],
     "output_type": "stream"
    }
   ],
   "source": [
    "fname = 'winobias_data/attention_intervention_results_gpt2medium_filtered.json'\n",
    "if not FROM_CACHE:\n",
    "\tquantile = 0.25\n",
    "\tmodel = Model(output_attentions=True, gpt2_version=GPT2_VERSION)\n",
    "\ttokenizer = GPT2Tokenizer.from_pretrained(GPT2_VERSION)\n",
    "\texamples = winobias.load_dev_examples()\n",
    "\t\n",
    "\tdf = winobias.analyze(examples, gpt2_version=GPT2_VERSION)\n",
    "\tdf_expected = df[df.odds_ratio > 1]\n",
    "\tthreshold = df_expected.odds_ratio.quantile(quantile)\n",
    "\t\n",
    "\tfiltered_examples = []\n",
    "\tassert len(examples) == len(df)\n",
    "\tfor i in range(len(examples)):\n",
    "\t\tex = examples[i]\n",
    "\t\todds_ratio = df.iloc[i].odds_ratio\n",
    "\t\tif odds_ratio > threshold:\n",
    "\t\n",
    "\t\t\tfiltered_examples.append(ex)\n",
    "\tprint(f'Num examples with odds ratio > 1: {len(df_expected)} / {len(examples)}')\n",
    "\t\n",
    "\tprint(f'Num examples with odds ratio > {threshold:.4f} ({quantile} quantile): {len(filtered_examples)} / {len(examples)}')\n",
    "\t\t\t \n",
    "\texamples = filtered_examples\n",
    "\t\n",
    "\tinterventions = [ex.to_intervention(tokenizer) for ex in examples]\n",
    "\tresults = perform_interventions(interventions, model)\n",
    "\twith open(fname, 'w') as f:\n",
    "\t\tjson.dump(results, f)\n",
    "with open(fname) as f:\n",
    "\tresults = json.load(f)"
   ],
   "metadata": {
    "collapsed": false,
    "pycharm": {
     "name": "#%%\n",
     "is_executing": true
    }
   }
  },
  {
   "cell_type": "markdown",
   "source": [
    "### Mean Effect"
   ],
   "metadata": {
    "collapsed": false
   }
  },
  {
   "cell_type": "code",
   "execution_count": null,
   "outputs": [],
   "source": [
    "report_interventions_summary_by_head(results)"
   ],
   "metadata": {
    "collapsed": false,
    "pycharm": {
     "name": "#%%\n",
     "is_executing": true
    }
   }
  },
  {
   "cell_type": "code",
   "execution_count": null,
   "outputs": [],
   "source": [
    "report_interventions_summary_by_layer(results)"
   ],
   "metadata": {
    "collapsed": false,
    "pycharm": {
     "name": "#%%\n",
     "is_executing": true
    }
   }
  },
  {
   "cell_type": "markdown",
   "source": [
    "### Examples\n",
    "\t"
   ],
   "metadata": {
    "collapsed": false
   }
  },
  {
   "cell_type": "code",
   "execution_count": null,
   "outputs": [],
   "source": [
    "report_intervention(results[0])"
   ],
   "metadata": {
    "collapsed": false,
    "pycharm": {
     "name": "#%%\n",
     "is_executing": true
    }
   }
  },
  {
   "cell_type": "code",
   "execution_count": null,
   "outputs": [],
   "source": [
    "report_intervention(results[1])"
   ],
   "metadata": {
    "collapsed": false,
    "pycharm": {
     "name": "#%%\n",
     "is_executing": true
    }
   }
  },
  {
   "cell_type": "code",
   "execution_count": null,
   "outputs": [],
   "source": [
    "report_intervention(results[2])"
   ],
   "metadata": {
    "collapsed": false,
    "pycharm": {
     "name": "#%%\n",
     "is_executing": true
    }
   }
  },
  {
   "cell_type": "code",
   "execution_count": null,
   "outputs": [],
   "source": [
    "report_intervention(results[3])\n"
   ],
   "metadata": {
    "collapsed": false,
    "pycharm": {
     "name": "#%%\n",
     "is_executing": true
    }
   }
  }
 ],
 "metadata": {
  "language_info": {
   "codemirror_mode": {
    "name": "ipython",
    "version": 2
   },
   "file_extension": ".py",
   "mimetype": "text/x-python",
   "name": "python",
   "nbconvert_exporter": "python",
   "pygments_lexer": "ipython2",
   "version": "2.7.6"
  },
  "kernelspec": {
   "name": "python3",
   "language": "python",
   "display_name": "Python 3"
  },
  "pycharm": {
   "stem_cell": {
    "cell_type": "raw",
    "source": [],
    "metadata": {
     "collapsed": false
    }
   }
  }
 },
 "nbformat": 4,
 "nbformat_minor": 0
}