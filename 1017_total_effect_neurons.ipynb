{
 "cells": [
  {
   "cell_type": "code",
   "execution_count": 1,
   "metadata": {},
   "outputs": [
    {
     "name": "stdout",
     "output_type": "stream",
     "text": [
      "Loaded Libraries...\n"
     ]
    }
   ],
   "source": [
    "import codecs\n",
    "import datetime\n",
    "import json\n",
    "import numpy as np\n",
    "import os\n",
    "import pandas as pd\n",
    "import matplotlib.pyplot as plt\n",
    "import seaborn as sns\n",
    "from tqdm import tqdm_notebook as tqdm\n",
    "sns.set_context(\"talk\")\n",
    "sns.set_style(\"white\")\n",
    "print(\"Loaded Libraries...\")"
   ]
  },
  {
   "cell_type": "code",
   "execution_count": 76,
   "metadata": {},
   "outputs": [],
   "source": [
    "# Plot correlation \n",
    "import chart_studio.plotly as py\n",
    "import plotly.figure_factory as ff\n",
    "import plotly.graph_objects as go\n",
    "import plotly.express as px"
   ]
  },
  {
   "cell_type": "code",
   "execution_count": 4,
   "metadata": {},
   "outputs": [],
   "source": [
    "def analyze_effect_results(results_df, effect, word, alt, savefig=None):\n",
    "    \n",
    "    # calculate odds\n",
    "    if alt == \"man\":\n",
    "        odds_base = results_df['candidate1_base_prob'] / results_df['candidate2_base_prob']\n",
    "        odds_intervention = results_df['candidate1_prob'] / results_df['candidate2_prob']\n",
    "    else:\n",
    "        odds_base = results_df['candidate2_base_prob'] / results_df['candidate1_base_prob']\n",
    "        odds_intervention = results_df['candidate2_prob'] / results_df['candidate1_prob']\n",
    "    odds_ratio = odds_intervention / odds_base\n",
    "    results_df['odds_ratio'] = odds_ratio\n",
    "    \n",
    "    if word == 'all':\n",
    "        # average over words\n",
    "        results_df = results_df.groupby(['layer', 'neuron'], as_index=False).mean()\n",
    "        print('averaging over words')\n",
    "    else:\n",
    "        # choose one word\n",
    "        results_df = results_df[results_df['word'] == word]\n",
    "        print('selecting word', word)\n",
    "\n",
    "    results_df = results_df.pivot('neuron', 'layer', 'odds_ratio')\n",
    "\n",
    "    print('Effect:', effect.upper())\n",
    "    if effect=='indirect':\n",
    "        print(\"Intervention: replace Neuron(x) with Neuron(x') in a specific layer/neuron\")\n",
    "    elif effect == 'direct':\n",
    "        print(\"Intervention: replace x with x' while preserving Neuron(x) in a specific layer/neuron\")\n",
    "    else:\n",
    "        raise ValueError(f\"Invalid effect: {effect}\")\n",
    "\n",
    "    candidate1, candidate2 = 'he', 'she'\n",
    "    profession = 'PROFESSION' if word == 'all' else word\n",
    "    print(f\"x : The {profession} said that\")\n",
    "    print(f\"x': The {alt} said that\")\n",
    "    print(\"Input value: x\")\n",
    "    print(f\"Continuations compared: {candidate1} / {candidate2}\")\n",
    "#     print(f\"p({candidate2}|x) / p({candidate1}|x) : {candidate2_base_prob / candidate1_base_prob:.2f}\")\n",
    "#     print(f\"p({candidate2}|x') / p({candidate1}|x') : {candidate2_alt_prob / candidate1_alt_prob:.2f}\")\n",
    "    print()        \n",
    "    if effect == 'indirect':\n",
    "        print(f'Odds ratio (p(\"she\"|x, Neuron(x\\')) / p(\"he\"|x, Neuron(x\\')) / (p(\"she\"|x) / p(\"he\"|x)):')\n",
    "    elif effect == 'direct':\n",
    "        print(f'Odds ratio (p(\"she\"|x\\', Neuron(x)) / p(\"he\"|x\\', Neuron(x) / (p(\"she\"|x) / p(\"he\"|x)):')\n",
    "\n",
    "    plt.figure(figsize=(6,30)) \n",
    "    sns.heatmap(results_df) #, annot=True, annot_kws={\"size\": 12}, fmt=\".2f\")\n",
    "    if savefig:\n",
    "        plt.savefig(savefig)\n"
   ]
  },
  {
   "cell_type": "code",
   "execution_count": 3,
   "metadata": {},
   "outputs": [
    {
     "data": {
      "text/plain": [
       "(['woman_direct',\n",
       "  'woman_indirect',\n",
       "  'man_indirect',\n",
       "  'woman_minus_man',\n",
       "  'man_minus_woman',\n",
       "  'man_direct'],\n",
       " ['results/20191015_neuron_intervention/woman_direct.csv',\n",
       "  'results/20191015_neuron_intervention/woman_indirect.csv',\n",
       "  'results/20191015_neuron_intervention/man_indirect.csv',\n",
       "  'results/20191015_neuron_intervention/woman_minus_man.csv',\n",
       "  'results/20191015_neuron_intervention/man_minus_woman.csv',\n",
       "  'results/20191015_neuron_intervention/man_direct.csv'])"
      ]
     },
     "execution_count": 3,
     "metadata": {},
     "output_type": "execute_result"
    }
   ],
   "source": [
    "folder_name = \"results/20191015_neuron_intervention/\"\n",
    "fnames = [f[:-4] for f in os.listdir(folder_name) if f.endswith(\"csv\")]\n",
    "paths = [os.path.join(folder_name, f) for f in os.listdir(folder_name) if f.endswith(\"csv\")]\n",
    "modes = ['direct', 'indirect', 'indirect','indirect','indirect','direct']\n",
    "fnames, paths"
   ]
  },
  {
   "cell_type": "markdown",
   "metadata": {},
   "source": [
    "## Get Profession Scores"
   ]
  },
  {
   "cell_type": "code",
   "execution_count": 28,
   "metadata": {},
   "outputs": [],
   "source": [
    "profession_stereotypicality = {}\n",
    "with open(\"professions.json\") as f:\n",
    "    for l in f:\n",
    "        for p in eval(l):\n",
    "            profession_stereotypicality[p[0]] = {\n",
    "                'stereotypicality': p[2],\n",
    "                'definitional': p[1],\n",
    "                'total': p[2]+p[1], \n",
    "                'max': max([p[2],p[1]], key=abs)}\n",
    "# Either use odds_diff_get_quant, odds_diff_get_98_quant, or odds_diff_mean, odds_diff_max\n",
    "# for k, v in quantiles.iterrows():\n",
    "#     profession_stereotypicality[v['base_string'].split()[1]]['odds'] = v['odds_diff_max']"
   ]
  },
  {
   "cell_type": "markdown",
   "metadata": {},
   "source": [
    "## Compute Total Effect"
   ]
  },
  {
   "cell_type": "code",
   "execution_count": 115,
   "metadata": {},
   "outputs": [],
   "source": [
    "def get_all_effects(base_folder, direction='woman'):\n",
    "    # Step 1: Load results for current folder and gender\n",
    "    fname = base_folder + direction + \"_indirect.csv\"\n",
    "    indirect_result_df = pd.read_csv(fname)\n",
    "    analyze_effect_results(\n",
    "        results_df=indirect_result_df, \n",
    "        effect='indirect', \n",
    "        word='all', \n",
    "        alt=direction)\n",
    "    fname = base_folder + direction + '_direct.csv'\n",
    "    direct_result_df = pd.read_csv(fname)\n",
    "    analyze_effect_results(\n",
    "        results_df=direct_result_df, \n",
    "        effect='direct', \n",
    "        word='all', \n",
    "        alt=direction)\n",
    "    \n",
    "    # Step 2: Join the two DF's\n",
    "    total_df = direct_result_df.join(\n",
    "        indirect_result_df, \n",
    "        lsuffix=\"_direct\", rsuffix=\"_indirect\")[[\"base_string_direct\",\n",
    "                                                 \"layer_direct\", \n",
    "                                                 \"neuron_direct\", \n",
    "                                                 \"odds_ratio_indirect\", \n",
    "                                                 \"odds_ratio_direct\"]]\n",
    "    total_df['total_effect'] = total_df['odds_ratio_indirect'] + total_df['odds_ratio_direct'] - 1\n",
    "    \n",
    "    return total_df"
   ]
  },
  {
   "cell_type": "code",
   "execution_count": 116,
   "metadata": {},
   "outputs": [],
   "source": [
    "def get_profession_correlation(total_df, direction=\"woman\"):\n",
    "    x_vals = []\n",
    "    y_vals = []\n",
    "    labels = []\n",
    "    total_by_ex = total_df.groupby('base_string_direct').agg('mean')\n",
    "    for index, row in total_by_ex.iterrows():\n",
    "        labels.append(index.split()[1])\n",
    "        y_vals.append(row['total_effect'])\n",
    "        x_vals.append(profession_stereotypicality[index.split()[1]]['max'])\n",
    "    profession_df = pd.DataFrame({'example': labels, \n",
    "                                  'bias': x_vals, \n",
    "                                  'log-odds': np.log(y_vals)})\n",
    "\n",
    "    fig = px.scatter(\n",
    "        profession_df, \n",
    "        x=\"bias\", \n",
    "        y=\"log-odds\", \n",
    "        trendline=\"ols\")\n",
    "    fig.write_image(base_folder + direction + \"_total_profession.pdf\")\n",
    "    fig.show()"
   ]
  },
  {
   "cell_type": "code",
   "execution_count": 138,
   "metadata": {},
   "outputs": [
    {
     "name": "stdout",
     "output_type": "stream",
     "text": [
      "averaging over words\n",
      "Effect: INDIRECT\n",
      "Intervention: replace Neuron(x) with Neuron(x') in a specific layer/neuron\n",
      "x : The PROFESSION said that\n",
      "x': The woman said that\n",
      "Input value: x\n",
      "Continuations compared: he / she\n",
      "\n",
      "Odds ratio (p(\"she\"|x, Neuron(x')) / p(\"he\"|x, Neuron(x')) / (p(\"she\"|x) / p(\"he\"|x)):\n",
      "averaging over words\n",
      "Effect: DIRECT\n",
      "Intervention: replace x with x' while preserving Neuron(x) in a specific layer/neuron\n",
      "x : The PROFESSION said that\n",
      "x': The woman said that\n",
      "Input value: x\n",
      "Continuations compared: he / she\n",
      "\n",
      "Odds ratio (p(\"she\"|x', Neuron(x)) / p(\"he\"|x', Neuron(x) / (p(\"she\"|x) / p(\"he\"|x)):\n"
     ]
    },
    {
     "name": "stderr",
     "output_type": "stream",
     "text": [
      "/Users/Sebastian/anaconda2/envs/pytorch4/lib/python3.6/site-packages/numpy/core/fromnumeric.py:2389: FutureWarning:\n",
      "\n",
      "Method .ptp is deprecated and will be removed in a future version. Use numpy.ptp instead.\n",
      "\n"
     ]
    },
    {
     "data": {
      "application/vnd.plotly.v1+json": {
       "config": {
        "plotlyServerURL": "https://plot.ly"
       },
       "data": [
        {
         "hoverlabel": {
          "namelength": 0
         },
         "hovertemplate": "bias=%{x}<br>log-odds=%{y}",
         "legendgroup": "",
         "marker": {
          "color": "#636efa",
          "symbol": "circle"
         },
         "mode": "markers",
         "name": "",
         "showlegend": false,
         "type": "scatter",
         "x": [
          0.4,
          0,
          0.8,
          -1,
          0.2,
          0.5,
          -0.1,
          -0.2,
          0.7,
          0.4,
          0.6,
          -0.2,
          0.8,
          0.8,
          0.5,
          0.7,
          0.3,
          0.1,
          -0.1,
          0.6,
          0.3,
          0.1,
          0.6,
          0.7,
          0.9,
          0.4,
          0.5,
          0.8,
          0.9,
          0.2,
          0.6,
          0.6,
          0,
          0.5,
          0.2,
          0,
          0.3,
          -0.5,
          0.8,
          0.4,
          0.8,
          0.2,
          0.3,
          0.1,
          0.8,
          0.4,
          0.8,
          0.4,
          0.6,
          0.7,
          0.1,
          0.6,
          0,
          -0.1,
          0.4,
          0.2,
          1,
          -0.9,
          0.7,
          0.7,
          0.7,
          0.5,
          0.5,
          0.6,
          0.7,
          0.9,
          0.5,
          0.4,
          -0.5,
          0,
          0.5,
          0.2,
          0.8,
          0.3,
          0.7,
          0.9,
          0.5,
          0.5,
          0.5,
          0.5,
          0.5,
          -0.3,
          0.5,
          0.5,
          0.3,
          0.7,
          0.4,
          0.7,
          0.5,
          0.2,
          0.7,
          0.7,
          0.7,
          0.8,
          -0.6,
          0.6,
          0.8,
          0.6,
          0.4,
          0.5,
          0.8,
          0.3,
          0.8,
          0,
          0.2,
          0.3,
          0,
          -0.8,
          -0.9,
          -0.1,
          0.8,
          0.2,
          0.7,
          -0.2,
          0.8,
          -0.1,
          0.6,
          0.7,
          -0.3,
          -0.1,
          0.8,
          0.5,
          0.7,
          0.9,
          0.7,
          0.3,
          0.6,
          0.4,
          0.6,
          0.3,
          0.3,
          0.1,
          -0.1,
          -0.2,
          0,
          0.6,
          0.7,
          0.1,
          0.8,
          0.3,
          0.8,
          0.6,
          0.5,
          -0.8,
          0.7,
          0.7,
          0.1,
          -0.2,
          0.6,
          0.3,
          0.3,
          0,
          -0.1,
          0.9,
          0.7,
          -0.8,
          0.6,
          -0.1,
          -0.4,
          0.6,
          -0.3,
          0.5,
          -0.3,
          1,
          -0.9,
          0.9,
          0.3,
          0.6,
          0
         ],
         "xaxis": "x",
         "y": [
          3.400189450402629,
          3.2183132533061056,
          5.13613389358279,
          -1.4838102628217362,
          3.3781968293891786,
          3.9966684756526583,
          2.768050053477012,
          2.924014347906265,
          4.122018118828711,
          4.59578461770196,
          4.165655445456366,
          3.4608622118285566,
          3.776441748533127,
          5.0082690992352195,
          4.81692292399256,
          3.5631832476446452,
          3.3732234811664408,
          3.3055902673815063,
          3.1692706762491265,
          4.507048871545983,
          2.967114747291175,
          3.384418466882363,
          4.487401716148594,
          4.030926297170778,
          4.893469798446654,
          4.261227768500357,
          3.8206853902136473,
          6.5432578968806,
          4.0489430661486185,
          2.5134060037808106,
          4.463802010885962,
          3.29670210911991,
          3.2393195578869687,
          4.019821635065901,
          3.968746509345654,
          3.449559108069657,
          4.518613895525639,
          2.2602699403138433,
          5.4483843347826735,
          3.925900337613495,
          5.208443781609884,
          3.5558687379200955,
          4.219813875723312,
          3.3746839825501187,
          4.5427326061733115,
          4.182297782748513,
          4.208464489328362,
          5.000596594486271,
          4.2731812866683105,
          5.629203328782503,
          3.810590050395136,
          3.76953078132677,
          3.5110343040065883,
          2.1621036315656665,
          3.6521830990058133,
          2.972497962559673,
          4.798071837403441,
          1.2780678692940584,
          3.0768711589165303,
          3.3627513142710326,
          3.649561690833409,
          3.509102926135473,
          4.127726685806586,
          4.024550678010206,
          3.1584283369271917,
          4.625111825199762,
          4.58472153106183,
          3.7011795234023697,
          2.261182433513521,
          2.716400640027779,
          4.88675526172253,
          4.96582963950788,
          4.672558363561418,
          4.139033237767335,
          4.181782467031719,
          4.844390626033604,
          6.360493480552177,
          5.449727306101997,
          5.098288401179199,
          3.9733782147227266,
          3.741882181311209,
          3.143917369914397,
          4.8847655542896895,
          3.4419462676345822,
          3.3702289011839865,
          3.1639183080953477,
          3.2080363140755983,
          3.6526106604271074,
          3.306142760559706,
          3.3276786652479147,
          3.4659123473337887,
          3.7062030342336256,
          4.308948854031541,
          3.7996047434410327,
          0.33941896092971413,
          4.170654430420574,
          4.44516393253309,
          4.235328464737026,
          2.911357163819341,
          7.109186988235726,
          3.990829935703838,
          3.4120156802210464,
          5.678824227141808,
          4.420515492442867,
          3.1576960037043067,
          4.43603551825883,
          3.4048688435323977,
          -0.16697280905864195,
          0.7868356105618843,
          4.290426064239956,
          3.793447895339235,
          4.247001417487038,
          4.399974679532558,
          2.8957914660509667,
          4.7402770821241536,
          3.515249084601796,
          3.2437094871652916,
          4.94102713281417,
          2.869651599697443,
          4.266844783176297,
          4.562729044022165,
          4.239727212096769,
          4.797087916683456,
          5.711586180925905,
          4.345868770455063,
          3.2087993414706455,
          3.8710124581009016,
          3.4011967648341974,
          4.3378219598931995,
          4.505996708829362,
          3.3541425611994784,
          3.3584244816307787,
          3.004325827557897,
          3.160908693429432,
          2.8099526906964982,
          4.404475220575486,
          3.506823359105029,
          3.41262649224966,
          4.168090874201146,
          4.590135255871021,
          4.261951524113119,
          4.034836849512408,
          4.278447209562746,
          3.0839572914576334,
          4.15141809242688,
          3.8047808879396126,
          3.131698268622613,
          1.6871351610118748,
          4.659351237351395,
          3.253031258011734,
          4.26651469736636,
          2.844459987485373,
          3.4361955631257817,
          3.596787260237183,
          3.8297831818555346,
          2.173240534059511,
          3.3477097798844557,
          2.92567095970721,
          2.4402759744702736,
          4.675373984702589,
          3.765020889694476,
          3.9493615456745883,
          2.9856509937484814,
          4.015614816886041,
          0.6364940231363663,
          4.391594743609707,
          2.9395990946206925,
          5.1240785723591085,
          3.5090627460680346
         ],
         "yaxis": "y"
        },
        {
         "hoverlabel": {
          "namelength": 0
         },
         "hovertemplate": "<b>OLS trendline</b><br>log-odds = 1.824348 * bias + 3.132292<br>R<sup>2</sup>=0.522782<br><br>bias=%{x}<br>log-odds=%{y} <b>(trend)</b>",
         "legendgroup": "",
         "marker": {
          "color": "#636efa",
          "symbol": "circle"
         },
         "mode": "lines",
         "name": "",
         "showlegend": false,
         "type": "scatter",
         "x": [
          -1,
          -0.9,
          -0.9,
          -0.9,
          -0.8,
          -0.8,
          -0.8,
          -0.6,
          -0.5,
          -0.5,
          -0.4,
          -0.3,
          -0.3,
          -0.3,
          -0.3,
          -0.2,
          -0.2,
          -0.2,
          -0.2,
          -0.2,
          -0.1,
          -0.1,
          -0.1,
          -0.1,
          -0.1,
          -0.1,
          -0.1,
          -0.1,
          -0.1,
          0,
          0,
          0,
          0,
          0,
          0,
          0,
          0,
          0,
          0,
          0.1,
          0.1,
          0.1,
          0.1,
          0.1,
          0.1,
          0.1,
          0.2,
          0.2,
          0.2,
          0.2,
          0.2,
          0.2,
          0.2,
          0.2,
          0.2,
          0.3,
          0.3,
          0.3,
          0.3,
          0.3,
          0.3,
          0.3,
          0.3,
          0.3,
          0.3,
          0.3,
          0.3,
          0.3,
          0.3,
          0.3,
          0.4,
          0.4,
          0.4,
          0.4,
          0.4,
          0.4,
          0.4,
          0.4,
          0.4,
          0.4,
          0.4,
          0.5,
          0.5,
          0.5,
          0.5,
          0.5,
          0.5,
          0.5,
          0.5,
          0.5,
          0.5,
          0.5,
          0.5,
          0.5,
          0.5,
          0.5,
          0.5,
          0.5,
          0.5,
          0.5,
          0.5,
          0.6,
          0.6,
          0.6,
          0.6,
          0.6,
          0.6,
          0.6,
          0.6,
          0.6,
          0.6,
          0.6,
          0.6,
          0.6,
          0.6,
          0.6,
          0.6,
          0.6,
          0.6,
          0.6,
          0.7,
          0.7,
          0.7,
          0.7,
          0.7,
          0.7,
          0.7,
          0.7,
          0.7,
          0.7,
          0.7,
          0.7,
          0.7,
          0.7,
          0.7,
          0.7,
          0.7,
          0.7,
          0.7,
          0.7,
          0.7,
          0.7,
          0.8,
          0.8,
          0.8,
          0.8,
          0.8,
          0.8,
          0.8,
          0.8,
          0.8,
          0.8,
          0.8,
          0.8,
          0.8,
          0.8,
          0.8,
          0.8,
          0.8,
          0.8,
          0.9,
          0.9,
          0.9,
          0.9,
          0.9,
          0.9,
          0.9,
          1,
          1
         ],
         "xaxis": "x",
         "y": [
          1.3079445532591767,
          1.4903793340301812,
          1.4903793340301812,
          1.4903793340301812,
          1.6728141148011857,
          1.6728141148011857,
          1.6728141148011857,
          2.037683676343195,
          2.220118457114199,
          2.220118457114199,
          2.402553237885204,
          2.5849880186562086,
          2.5849880186562086,
          2.5849880186562086,
          2.5849880186562086,
          2.767422799427213,
          2.767422799427213,
          2.767422799427213,
          2.767422799427213,
          2.767422799427213,
          2.9498575801982176,
          2.9498575801982176,
          2.9498575801982176,
          2.9498575801982176,
          2.9498575801982176,
          2.9498575801982176,
          2.9498575801982176,
          2.9498575801982176,
          2.9498575801982176,
          3.132292360969222,
          3.132292360969222,
          3.132292360969222,
          3.132292360969222,
          3.132292360969222,
          3.132292360969222,
          3.132292360969222,
          3.132292360969222,
          3.132292360969222,
          3.132292360969222,
          3.3147271417402266,
          3.3147271417402266,
          3.3147271417402266,
          3.3147271417402266,
          3.3147271417402266,
          3.3147271417402266,
          3.3147271417402266,
          3.497161922511231,
          3.497161922511231,
          3.497161922511231,
          3.497161922511231,
          3.497161922511231,
          3.497161922511231,
          3.497161922511231,
          3.497161922511231,
          3.497161922511231,
          3.6795967032822356,
          3.6795967032822356,
          3.6795967032822356,
          3.6795967032822356,
          3.6795967032822356,
          3.6795967032822356,
          3.6795967032822356,
          3.6795967032822356,
          3.6795967032822356,
          3.6795967032822356,
          3.6795967032822356,
          3.6795967032822356,
          3.6795967032822356,
          3.6795967032822356,
          3.6795967032822356,
          3.86203148405324,
          3.86203148405324,
          3.86203148405324,
          3.86203148405324,
          3.86203148405324,
          3.86203148405324,
          3.86203148405324,
          3.86203148405324,
          3.86203148405324,
          3.86203148405324,
          3.86203148405324,
          4.044466264824245,
          4.044466264824245,
          4.044466264824245,
          4.044466264824245,
          4.044466264824245,
          4.044466264824245,
          4.044466264824245,
          4.044466264824245,
          4.044466264824245,
          4.044466264824245,
          4.044466264824245,
          4.044466264824245,
          4.044466264824245,
          4.044466264824245,
          4.044466264824245,
          4.044466264824245,
          4.044466264824245,
          4.044466264824245,
          4.044466264824245,
          4.044466264824245,
          4.226901045595249,
          4.226901045595249,
          4.226901045595249,
          4.226901045595249,
          4.226901045595249,
          4.226901045595249,
          4.226901045595249,
          4.226901045595249,
          4.226901045595249,
          4.226901045595249,
          4.226901045595249,
          4.226901045595249,
          4.226901045595249,
          4.226901045595249,
          4.226901045595249,
          4.226901045595249,
          4.226901045595249,
          4.226901045595249,
          4.226901045595249,
          4.409335826366254,
          4.409335826366254,
          4.409335826366254,
          4.409335826366254,
          4.409335826366254,
          4.409335826366254,
          4.409335826366254,
          4.409335826366254,
          4.409335826366254,
          4.409335826366254,
          4.409335826366254,
          4.409335826366254,
          4.409335826366254,
          4.409335826366254,
          4.409335826366254,
          4.409335826366254,
          4.409335826366254,
          4.409335826366254,
          4.409335826366254,
          4.409335826366254,
          4.409335826366254,
          4.409335826366254,
          4.591770607137258,
          4.591770607137258,
          4.591770607137258,
          4.591770607137258,
          4.591770607137258,
          4.591770607137258,
          4.591770607137258,
          4.591770607137258,
          4.591770607137258,
          4.591770607137258,
          4.591770607137258,
          4.591770607137258,
          4.591770607137258,
          4.591770607137258,
          4.591770607137258,
          4.591770607137258,
          4.591770607137258,
          4.591770607137258,
          4.774205387908263,
          4.774205387908263,
          4.774205387908263,
          4.774205387908263,
          4.774205387908263,
          4.774205387908263,
          4.774205387908263,
          4.956640168679268,
          4.956640168679268
         ],
         "yaxis": "y"
        }
       ],
       "layout": {
        "height": 600,
        "legend": {
         "tracegroupgap": 0
        },
        "margin": {
         "t": 60
        },
        "template": {
         "data": {
          "bar": [
           {
            "error_x": {
             "color": "#2a3f5f"
            },
            "error_y": {
             "color": "#2a3f5f"
            },
            "marker": {
             "line": {
              "color": "#E5ECF6",
              "width": 0.5
             }
            },
            "type": "bar"
           }
          ],
          "barpolar": [
           {
            "marker": {
             "line": {
              "color": "#E5ECF6",
              "width": 0.5
             }
            },
            "type": "barpolar"
           }
          ],
          "carpet": [
           {
            "aaxis": {
             "endlinecolor": "#2a3f5f",
             "gridcolor": "white",
             "linecolor": "white",
             "minorgridcolor": "white",
             "startlinecolor": "#2a3f5f"
            },
            "baxis": {
             "endlinecolor": "#2a3f5f",
             "gridcolor": "white",
             "linecolor": "white",
             "minorgridcolor": "white",
             "startlinecolor": "#2a3f5f"
            },
            "type": "carpet"
           }
          ],
          "choropleth": [
           {
            "colorbar": {
             "outlinewidth": 0,
             "ticks": ""
            },
            "type": "choropleth"
           }
          ],
          "contour": [
           {
            "colorbar": {
             "outlinewidth": 0,
             "ticks": ""
            },
            "colorscale": [
             [
              0,
              "#0d0887"
             ],
             [
              0.1111111111111111,
              "#46039f"
             ],
             [
              0.2222222222222222,
              "#7201a8"
             ],
             [
              0.3333333333333333,
              "#9c179e"
             ],
             [
              0.4444444444444444,
              "#bd3786"
             ],
             [
              0.5555555555555556,
              "#d8576b"
             ],
             [
              0.6666666666666666,
              "#ed7953"
             ],
             [
              0.7777777777777778,
              "#fb9f3a"
             ],
             [
              0.8888888888888888,
              "#fdca26"
             ],
             [
              1,
              "#f0f921"
             ]
            ],
            "type": "contour"
           }
          ],
          "contourcarpet": [
           {
            "colorbar": {
             "outlinewidth": 0,
             "ticks": ""
            },
            "type": "contourcarpet"
           }
          ],
          "heatmap": [
           {
            "colorbar": {
             "outlinewidth": 0,
             "ticks": ""
            },
            "colorscale": [
             [
              0,
              "#0d0887"
             ],
             [
              0.1111111111111111,
              "#46039f"
             ],
             [
              0.2222222222222222,
              "#7201a8"
             ],
             [
              0.3333333333333333,
              "#9c179e"
             ],
             [
              0.4444444444444444,
              "#bd3786"
             ],
             [
              0.5555555555555556,
              "#d8576b"
             ],
             [
              0.6666666666666666,
              "#ed7953"
             ],
             [
              0.7777777777777778,
              "#fb9f3a"
             ],
             [
              0.8888888888888888,
              "#fdca26"
             ],
             [
              1,
              "#f0f921"
             ]
            ],
            "type": "heatmap"
           }
          ],
          "heatmapgl": [
           {
            "colorbar": {
             "outlinewidth": 0,
             "ticks": ""
            },
            "colorscale": [
             [
              0,
              "#0d0887"
             ],
             [
              0.1111111111111111,
              "#46039f"
             ],
             [
              0.2222222222222222,
              "#7201a8"
             ],
             [
              0.3333333333333333,
              "#9c179e"
             ],
             [
              0.4444444444444444,
              "#bd3786"
             ],
             [
              0.5555555555555556,
              "#d8576b"
             ],
             [
              0.6666666666666666,
              "#ed7953"
             ],
             [
              0.7777777777777778,
              "#fb9f3a"
             ],
             [
              0.8888888888888888,
              "#fdca26"
             ],
             [
              1,
              "#f0f921"
             ]
            ],
            "type": "heatmapgl"
           }
          ],
          "histogram": [
           {
            "marker": {
             "colorbar": {
              "outlinewidth": 0,
              "ticks": ""
             }
            },
            "type": "histogram"
           }
          ],
          "histogram2d": [
           {
            "colorbar": {
             "outlinewidth": 0,
             "ticks": ""
            },
            "colorscale": [
             [
              0,
              "#0d0887"
             ],
             [
              0.1111111111111111,
              "#46039f"
             ],
             [
              0.2222222222222222,
              "#7201a8"
             ],
             [
              0.3333333333333333,
              "#9c179e"
             ],
             [
              0.4444444444444444,
              "#bd3786"
             ],
             [
              0.5555555555555556,
              "#d8576b"
             ],
             [
              0.6666666666666666,
              "#ed7953"
             ],
             [
              0.7777777777777778,
              "#fb9f3a"
             ],
             [
              0.8888888888888888,
              "#fdca26"
             ],
             [
              1,
              "#f0f921"
             ]
            ],
            "type": "histogram2d"
           }
          ],
          "histogram2dcontour": [
           {
            "colorbar": {
             "outlinewidth": 0,
             "ticks": ""
            },
            "colorscale": [
             [
              0,
              "#0d0887"
             ],
             [
              0.1111111111111111,
              "#46039f"
             ],
             [
              0.2222222222222222,
              "#7201a8"
             ],
             [
              0.3333333333333333,
              "#9c179e"
             ],
             [
              0.4444444444444444,
              "#bd3786"
             ],
             [
              0.5555555555555556,
              "#d8576b"
             ],
             [
              0.6666666666666666,
              "#ed7953"
             ],
             [
              0.7777777777777778,
              "#fb9f3a"
             ],
             [
              0.8888888888888888,
              "#fdca26"
             ],
             [
              1,
              "#f0f921"
             ]
            ],
            "type": "histogram2dcontour"
           }
          ],
          "mesh3d": [
           {
            "colorbar": {
             "outlinewidth": 0,
             "ticks": ""
            },
            "type": "mesh3d"
           }
          ],
          "parcoords": [
           {
            "line": {
             "colorbar": {
              "outlinewidth": 0,
              "ticks": ""
             }
            },
            "type": "parcoords"
           }
          ],
          "scatter": [
           {
            "marker": {
             "colorbar": {
              "outlinewidth": 0,
              "ticks": ""
             }
            },
            "type": "scatter"
           }
          ],
          "scatter3d": [
           {
            "line": {
             "colorbar": {
              "outlinewidth": 0,
              "ticks": ""
             }
            },
            "marker": {
             "colorbar": {
              "outlinewidth": 0,
              "ticks": ""
             }
            },
            "type": "scatter3d"
           }
          ],
          "scattercarpet": [
           {
            "marker": {
             "colorbar": {
              "outlinewidth": 0,
              "ticks": ""
             }
            },
            "type": "scattercarpet"
           }
          ],
          "scattergeo": [
           {
            "marker": {
             "colorbar": {
              "outlinewidth": 0,
              "ticks": ""
             }
            },
            "type": "scattergeo"
           }
          ],
          "scattergl": [
           {
            "marker": {
             "colorbar": {
              "outlinewidth": 0,
              "ticks": ""
             }
            },
            "type": "scattergl"
           }
          ],
          "scattermapbox": [
           {
            "marker": {
             "colorbar": {
              "outlinewidth": 0,
              "ticks": ""
             }
            },
            "type": "scattermapbox"
           }
          ],
          "scatterpolar": [
           {
            "marker": {
             "colorbar": {
              "outlinewidth": 0,
              "ticks": ""
             }
            },
            "type": "scatterpolar"
           }
          ],
          "scatterpolargl": [
           {
            "marker": {
             "colorbar": {
              "outlinewidth": 0,
              "ticks": ""
             }
            },
            "type": "scatterpolargl"
           }
          ],
          "scatterternary": [
           {
            "marker": {
             "colorbar": {
              "outlinewidth": 0,
              "ticks": ""
             }
            },
            "type": "scatterternary"
           }
          ],
          "surface": [
           {
            "colorbar": {
             "outlinewidth": 0,
             "ticks": ""
            },
            "colorscale": [
             [
              0,
              "#0d0887"
             ],
             [
              0.1111111111111111,
              "#46039f"
             ],
             [
              0.2222222222222222,
              "#7201a8"
             ],
             [
              0.3333333333333333,
              "#9c179e"
             ],
             [
              0.4444444444444444,
              "#bd3786"
             ],
             [
              0.5555555555555556,
              "#d8576b"
             ],
             [
              0.6666666666666666,
              "#ed7953"
             ],
             [
              0.7777777777777778,
              "#fb9f3a"
             ],
             [
              0.8888888888888888,
              "#fdca26"
             ],
             [
              1,
              "#f0f921"
             ]
            ],
            "type": "surface"
           }
          ],
          "table": [
           {
            "cells": {
             "fill": {
              "color": "#EBF0F8"
             },
             "line": {
              "color": "white"
             }
            },
            "header": {
             "fill": {
              "color": "#C8D4E3"
             },
             "line": {
              "color": "white"
             }
            },
            "type": "table"
           }
          ]
         },
         "layout": {
          "annotationdefaults": {
           "arrowcolor": "#2a3f5f",
           "arrowhead": 0,
           "arrowwidth": 1
          },
          "colorscale": {
           "diverging": [
            [
             0,
             "#8e0152"
            ],
            [
             0.1,
             "#c51b7d"
            ],
            [
             0.2,
             "#de77ae"
            ],
            [
             0.3,
             "#f1b6da"
            ],
            [
             0.4,
             "#fde0ef"
            ],
            [
             0.5,
             "#f7f7f7"
            ],
            [
             0.6,
             "#e6f5d0"
            ],
            [
             0.7,
             "#b8e186"
            ],
            [
             0.8,
             "#7fbc41"
            ],
            [
             0.9,
             "#4d9221"
            ],
            [
             1,
             "#276419"
            ]
           ],
           "sequential": [
            [
             0,
             "#0d0887"
            ],
            [
             0.1111111111111111,
             "#46039f"
            ],
            [
             0.2222222222222222,
             "#7201a8"
            ],
            [
             0.3333333333333333,
             "#9c179e"
            ],
            [
             0.4444444444444444,
             "#bd3786"
            ],
            [
             0.5555555555555556,
             "#d8576b"
            ],
            [
             0.6666666666666666,
             "#ed7953"
            ],
            [
             0.7777777777777778,
             "#fb9f3a"
            ],
            [
             0.8888888888888888,
             "#fdca26"
            ],
            [
             1,
             "#f0f921"
            ]
           ],
           "sequentialminus": [
            [
             0,
             "#0d0887"
            ],
            [
             0.1111111111111111,
             "#46039f"
            ],
            [
             0.2222222222222222,
             "#7201a8"
            ],
            [
             0.3333333333333333,
             "#9c179e"
            ],
            [
             0.4444444444444444,
             "#bd3786"
            ],
            [
             0.5555555555555556,
             "#d8576b"
            ],
            [
             0.6666666666666666,
             "#ed7953"
            ],
            [
             0.7777777777777778,
             "#fb9f3a"
            ],
            [
             0.8888888888888888,
             "#fdca26"
            ],
            [
             1,
             "#f0f921"
            ]
           ]
          },
          "colorway": [
           "#636efa",
           "#EF553B",
           "#00cc96",
           "#ab63fa",
           "#FFA15A",
           "#19d3f3",
           "#FF6692",
           "#B6E880",
           "#FF97FF",
           "#FECB52"
          ],
          "font": {
           "color": "#2a3f5f"
          },
          "geo": {
           "bgcolor": "white",
           "lakecolor": "white",
           "landcolor": "#E5ECF6",
           "showlakes": true,
           "showland": true,
           "subunitcolor": "white"
          },
          "hoverlabel": {
           "align": "left"
          },
          "hovermode": "closest",
          "mapbox": {
           "style": "light"
          },
          "paper_bgcolor": "white",
          "plot_bgcolor": "#E5ECF6",
          "polar": {
           "angularaxis": {
            "gridcolor": "white",
            "linecolor": "white",
            "ticks": ""
           },
           "bgcolor": "#E5ECF6",
           "radialaxis": {
            "gridcolor": "white",
            "linecolor": "white",
            "ticks": ""
           }
          },
          "scene": {
           "xaxis": {
            "backgroundcolor": "#E5ECF6",
            "gridcolor": "white",
            "gridwidth": 2,
            "linecolor": "white",
            "showbackground": true,
            "ticks": "",
            "zerolinecolor": "white"
           },
           "yaxis": {
            "backgroundcolor": "#E5ECF6",
            "gridcolor": "white",
            "gridwidth": 2,
            "linecolor": "white",
            "showbackground": true,
            "ticks": "",
            "zerolinecolor": "white"
           },
           "zaxis": {
            "backgroundcolor": "#E5ECF6",
            "gridcolor": "white",
            "gridwidth": 2,
            "linecolor": "white",
            "showbackground": true,
            "ticks": "",
            "zerolinecolor": "white"
           }
          },
          "shapedefaults": {
           "line": {
            "color": "#2a3f5f"
           }
          },
          "ternary": {
           "aaxis": {
            "gridcolor": "white",
            "linecolor": "white",
            "ticks": ""
           },
           "baxis": {
            "gridcolor": "white",
            "linecolor": "white",
            "ticks": ""
           },
           "bgcolor": "#E5ECF6",
           "caxis": {
            "gridcolor": "white",
            "linecolor": "white",
            "ticks": ""
           }
          },
          "title": {
           "x": 0.05
          },
          "xaxis": {
           "automargin": true,
           "gridcolor": "white",
           "linecolor": "white",
           "ticks": "",
           "zerolinecolor": "white",
           "zerolinewidth": 2
          },
          "yaxis": {
           "automargin": true,
           "gridcolor": "white",
           "linecolor": "white",
           "ticks": "",
           "zerolinecolor": "white",
           "zerolinewidth": 2
          }
         }
        },
        "xaxis": {
         "anchor": "y",
         "domain": [
          0,
          0.98
         ],
         "title": {
          "text": "bias"
         }
        },
        "yaxis": {
         "anchor": "x",
         "domain": [
          0,
          1
         ],
         "title": {
          "text": "log-odds"
         }
        }
       }
      },
      "text/html": [
       "<div>\n",
       "        \n",
       "        \n",
       "            <div id=\"9b579dfb-2172-40ba-87a0-14db6517d89e\" class=\"plotly-graph-div\" style=\"height:600px; width:100%;\"></div>\n",
       "            <script type=\"text/javascript\">\n",
       "                require([\"plotly\"], function(Plotly) {\n",
       "                    window.PLOTLYENV=window.PLOTLYENV || {};\n",
       "                    \n",
       "                if (document.getElementById(\"9b579dfb-2172-40ba-87a0-14db6517d89e\")) {\n",
       "                    Plotly.newPlot(\n",
       "                        '9b579dfb-2172-40ba-87a0-14db6517d89e',\n",
       "                        [{\"hoverlabel\": {\"namelength\": 0}, \"hovertemplate\": \"bias=%{x}<br>log-odds=%{y}\", \"legendgroup\": \"\", \"marker\": {\"color\": \"#636efa\", \"symbol\": \"circle\"}, \"mode\": \"markers\", \"name\": \"\", \"showlegend\": false, \"type\": \"scatter\", \"x\": [0.4, 0.0, 0.8, -1.0, 0.2, 0.5, -0.1, -0.2, 0.7, 0.4, 0.6, -0.2, 0.8, 0.8, 0.5, 0.7, 0.3, 0.1, -0.1, 0.6, 0.3, 0.1, 0.6, 0.7, 0.9, 0.4, 0.5, 0.8, 0.9, 0.2, 0.6, 0.6, 0.0, 0.5, 0.2, 0.0, 0.3, -0.5, 0.8, 0.4, 0.8, 0.2, 0.3, 0.1, 0.8, 0.4, 0.8, 0.4, 0.6, 0.7, 0.1, 0.6, 0.0, -0.1, 0.4, 0.2, 1.0, -0.9, 0.7, 0.7, 0.7, 0.5, 0.5, 0.6, 0.7, 0.9, 0.5, 0.4, -0.5, 0.0, 0.5, 0.2, 0.8, 0.3, 0.7, 0.9, 0.5, 0.5, 0.5, 0.5, 0.5, -0.3, 0.5, 0.5, 0.3, 0.7, 0.4, 0.7, 0.5, 0.2, 0.7, 0.7, 0.7, 0.8, -0.6, 0.6, 0.8, 0.6, 0.4, 0.5, 0.8, 0.3, 0.8, 0.0, 0.2, 0.3, 0.0, -0.8, -0.9, -0.1, 0.8, 0.2, 0.7, -0.2, 0.8, -0.1, 0.6, 0.7, -0.3, -0.1, 0.8, 0.5, 0.7, 0.9, 0.7, 0.3, 0.6, 0.4, 0.6, 0.3, 0.3, 0.1, -0.1, -0.2, 0.0, 0.6, 0.7, 0.1, 0.8, 0.3, 0.8, 0.6, 0.5, -0.8, 0.7, 0.7, 0.1, -0.2, 0.6, 0.3, 0.3, 0.0, -0.1, 0.9, 0.7, -0.8, 0.6, -0.1, -0.4, 0.6, -0.3, 0.5, -0.3, 1.0, -0.9, 0.9, 0.3, 0.6, 0.0], \"xaxis\": \"x\", \"y\": [3.400189450402629, 3.2183132533061056, 5.13613389358279, -1.4838102628217362, 3.3781968293891786, 3.9966684756526583, 2.768050053477012, 2.924014347906265, 4.122018118828711, 4.59578461770196, 4.165655445456366, 3.4608622118285566, 3.776441748533127, 5.0082690992352195, 4.81692292399256, 3.5631832476446452, 3.3732234811664408, 3.3055902673815063, 3.1692706762491265, 4.507048871545983, 2.967114747291175, 3.384418466882363, 4.487401716148594, 4.030926297170778, 4.893469798446654, 4.261227768500357, 3.8206853902136473, 6.5432578968806, 4.0489430661486185, 2.5134060037808106, 4.463802010885962, 3.29670210911991, 3.2393195578869687, 4.019821635065901, 3.968746509345654, 3.449559108069657, 4.518613895525639, 2.2602699403138433, 5.4483843347826735, 3.925900337613495, 5.208443781609884, 3.5558687379200955, 4.219813875723312, 3.3746839825501187, 4.5427326061733115, 4.182297782748513, 4.208464489328362, 5.000596594486271, 4.2731812866683105, 5.629203328782503, 3.810590050395136, 3.76953078132677, 3.5110343040065883, 2.1621036315656665, 3.6521830990058133, 2.972497962559673, 4.798071837403441, 1.2780678692940584, 3.0768711589165303, 3.3627513142710326, 3.649561690833409, 3.509102926135473, 4.127726685806586, 4.024550678010206, 3.1584283369271917, 4.625111825199762, 4.58472153106183, 3.7011795234023697, 2.261182433513521, 2.716400640027779, 4.88675526172253, 4.96582963950788, 4.672558363561418, 4.139033237767335, 4.181782467031719, 4.844390626033604, 6.360493480552177, 5.449727306101997, 5.098288401179199, 3.9733782147227266, 3.741882181311209, 3.143917369914397, 4.8847655542896895, 3.4419462676345822, 3.3702289011839865, 3.1639183080953477, 3.2080363140755983, 3.6526106604271074, 3.306142760559706, 3.3276786652479147, 3.4659123473337887, 3.7062030342336256, 4.308948854031541, 3.7996047434410327, 0.33941896092971413, 4.170654430420574, 4.44516393253309, 4.235328464737026, 2.911357163819341, 7.109186988235726, 3.990829935703838, 3.4120156802210464, 5.678824227141808, 4.420515492442867, 3.1576960037043067, 4.43603551825883, 3.4048688435323977, -0.16697280905864195, 0.7868356105618843, 4.290426064239956, 3.793447895339235, 4.247001417487038, 4.399974679532558, 2.8957914660509667, 4.7402770821241536, 3.515249084601796, 3.2437094871652916, 4.94102713281417, 2.869651599697443, 4.266844783176297, 4.562729044022165, 4.239727212096769, 4.797087916683456, 5.711586180925905, 4.345868770455063, 3.2087993414706455, 3.8710124581009016, 3.4011967648341974, 4.3378219598931995, 4.505996708829362, 3.3541425611994784, 3.3584244816307787, 3.004325827557897, 3.160908693429432, 2.8099526906964982, 4.404475220575486, 3.506823359105029, 3.41262649224966, 4.168090874201146, 4.590135255871021, 4.261951524113119, 4.034836849512408, 4.278447209562746, 3.0839572914576334, 4.15141809242688, 3.8047808879396126, 3.131698268622613, 1.6871351610118748, 4.659351237351395, 3.253031258011734, 4.26651469736636, 2.844459987485373, 3.4361955631257817, 3.596787260237183, 3.8297831818555346, 2.173240534059511, 3.3477097798844557, 2.92567095970721, 2.4402759744702736, 4.675373984702589, 3.765020889694476, 3.9493615456745883, 2.9856509937484814, 4.015614816886041, 0.6364940231363663, 4.391594743609707, 2.9395990946206925, 5.1240785723591085, 3.5090627460680346], \"yaxis\": \"y\"}, {\"hoverlabel\": {\"namelength\": 0}, \"hovertemplate\": \"<b>OLS trendline</b><br>log-odds = 1.824348 * bias + 3.132292<br>R<sup>2</sup>=0.522782<br><br>bias=%{x}<br>log-odds=%{y} <b>(trend)</b>\", \"legendgroup\": \"\", \"marker\": {\"color\": \"#636efa\", \"symbol\": \"circle\"}, \"mode\": \"lines\", \"name\": \"\", \"showlegend\": false, \"type\": \"scatter\", \"x\": [-1.0, -0.9, -0.9, -0.9, -0.8, -0.8, -0.8, -0.6, -0.5, -0.5, -0.4, -0.3, -0.3, -0.3, -0.3, -0.2, -0.2, -0.2, -0.2, -0.2, -0.1, -0.1, -0.1, -0.1, -0.1, -0.1, -0.1, -0.1, -0.1, 0.0, 0.0, 0.0, 0.0, 0.0, 0.0, 0.0, 0.0, 0.0, 0.0, 0.1, 0.1, 0.1, 0.1, 0.1, 0.1, 0.1, 0.2, 0.2, 0.2, 0.2, 0.2, 0.2, 0.2, 0.2, 0.2, 0.3, 0.3, 0.3, 0.3, 0.3, 0.3, 0.3, 0.3, 0.3, 0.3, 0.3, 0.3, 0.3, 0.3, 0.3, 0.4, 0.4, 0.4, 0.4, 0.4, 0.4, 0.4, 0.4, 0.4, 0.4, 0.4, 0.5, 0.5, 0.5, 0.5, 0.5, 0.5, 0.5, 0.5, 0.5, 0.5, 0.5, 0.5, 0.5, 0.5, 0.5, 0.5, 0.5, 0.5, 0.5, 0.5, 0.6, 0.6, 0.6, 0.6, 0.6, 0.6, 0.6, 0.6, 0.6, 0.6, 0.6, 0.6, 0.6, 0.6, 0.6, 0.6, 0.6, 0.6, 0.6, 0.7, 0.7, 0.7, 0.7, 0.7, 0.7, 0.7, 0.7, 0.7, 0.7, 0.7, 0.7, 0.7, 0.7, 0.7, 0.7, 0.7, 0.7, 0.7, 0.7, 0.7, 0.7, 0.8, 0.8, 0.8, 0.8, 0.8, 0.8, 0.8, 0.8, 0.8, 0.8, 0.8, 0.8, 0.8, 0.8, 0.8, 0.8, 0.8, 0.8, 0.9, 0.9, 0.9, 0.9, 0.9, 0.9, 0.9, 1.0, 1.0], \"xaxis\": \"x\", \"y\": [1.3079445532591767, 1.4903793340301812, 1.4903793340301812, 1.4903793340301812, 1.6728141148011857, 1.6728141148011857, 1.6728141148011857, 2.037683676343195, 2.220118457114199, 2.220118457114199, 2.402553237885204, 2.5849880186562086, 2.5849880186562086, 2.5849880186562086, 2.5849880186562086, 2.767422799427213, 2.767422799427213, 2.767422799427213, 2.767422799427213, 2.767422799427213, 2.9498575801982176, 2.9498575801982176, 2.9498575801982176, 2.9498575801982176, 2.9498575801982176, 2.9498575801982176, 2.9498575801982176, 2.9498575801982176, 2.9498575801982176, 3.132292360969222, 3.132292360969222, 3.132292360969222, 3.132292360969222, 3.132292360969222, 3.132292360969222, 3.132292360969222, 3.132292360969222, 3.132292360969222, 3.132292360969222, 3.3147271417402266, 3.3147271417402266, 3.3147271417402266, 3.3147271417402266, 3.3147271417402266, 3.3147271417402266, 3.3147271417402266, 3.497161922511231, 3.497161922511231, 3.497161922511231, 3.497161922511231, 3.497161922511231, 3.497161922511231, 3.497161922511231, 3.497161922511231, 3.497161922511231, 3.6795967032822356, 3.6795967032822356, 3.6795967032822356, 3.6795967032822356, 3.6795967032822356, 3.6795967032822356, 3.6795967032822356, 3.6795967032822356, 3.6795967032822356, 3.6795967032822356, 3.6795967032822356, 3.6795967032822356, 3.6795967032822356, 3.6795967032822356, 3.6795967032822356, 3.86203148405324, 3.86203148405324, 3.86203148405324, 3.86203148405324, 3.86203148405324, 3.86203148405324, 3.86203148405324, 3.86203148405324, 3.86203148405324, 3.86203148405324, 3.86203148405324, 4.044466264824245, 4.044466264824245, 4.044466264824245, 4.044466264824245, 4.044466264824245, 4.044466264824245, 4.044466264824245, 4.044466264824245, 4.044466264824245, 4.044466264824245, 4.044466264824245, 4.044466264824245, 4.044466264824245, 4.044466264824245, 4.044466264824245, 4.044466264824245, 4.044466264824245, 4.044466264824245, 4.044466264824245, 4.044466264824245, 4.226901045595249, 4.226901045595249, 4.226901045595249, 4.226901045595249, 4.226901045595249, 4.226901045595249, 4.226901045595249, 4.226901045595249, 4.226901045595249, 4.226901045595249, 4.226901045595249, 4.226901045595249, 4.226901045595249, 4.226901045595249, 4.226901045595249, 4.226901045595249, 4.226901045595249, 4.226901045595249, 4.226901045595249, 4.409335826366254, 4.409335826366254, 4.409335826366254, 4.409335826366254, 4.409335826366254, 4.409335826366254, 4.409335826366254, 4.409335826366254, 4.409335826366254, 4.409335826366254, 4.409335826366254, 4.409335826366254, 4.409335826366254, 4.409335826366254, 4.409335826366254, 4.409335826366254, 4.409335826366254, 4.409335826366254, 4.409335826366254, 4.409335826366254, 4.409335826366254, 4.409335826366254, 4.591770607137258, 4.591770607137258, 4.591770607137258, 4.591770607137258, 4.591770607137258, 4.591770607137258, 4.591770607137258, 4.591770607137258, 4.591770607137258, 4.591770607137258, 4.591770607137258, 4.591770607137258, 4.591770607137258, 4.591770607137258, 4.591770607137258, 4.591770607137258, 4.591770607137258, 4.591770607137258, 4.774205387908263, 4.774205387908263, 4.774205387908263, 4.774205387908263, 4.774205387908263, 4.774205387908263, 4.774205387908263, 4.956640168679268, 4.956640168679268], \"yaxis\": \"y\"}],\n",
       "                        {\"height\": 600, \"legend\": {\"tracegroupgap\": 0}, \"margin\": {\"t\": 60}, \"template\": {\"data\": {\"bar\": [{\"error_x\": {\"color\": \"#2a3f5f\"}, \"error_y\": {\"color\": \"#2a3f5f\"}, \"marker\": {\"line\": {\"color\": \"#E5ECF6\", \"width\": 0.5}}, \"type\": \"bar\"}], \"barpolar\": [{\"marker\": {\"line\": {\"color\": \"#E5ECF6\", \"width\": 0.5}}, \"type\": \"barpolar\"}], \"carpet\": [{\"aaxis\": {\"endlinecolor\": \"#2a3f5f\", \"gridcolor\": \"white\", \"linecolor\": \"white\", \"minorgridcolor\": \"white\", \"startlinecolor\": \"#2a3f5f\"}, \"baxis\": {\"endlinecolor\": \"#2a3f5f\", \"gridcolor\": \"white\", \"linecolor\": \"white\", \"minorgridcolor\": \"white\", \"startlinecolor\": \"#2a3f5f\"}, \"type\": \"carpet\"}], \"choropleth\": [{\"colorbar\": {\"outlinewidth\": 0, \"ticks\": \"\"}, \"type\": \"choropleth\"}], \"contour\": [{\"colorbar\": {\"outlinewidth\": 0, \"ticks\": \"\"}, \"colorscale\": [[0.0, \"#0d0887\"], [0.1111111111111111, \"#46039f\"], [0.2222222222222222, \"#7201a8\"], [0.3333333333333333, \"#9c179e\"], [0.4444444444444444, \"#bd3786\"], [0.5555555555555556, \"#d8576b\"], [0.6666666666666666, \"#ed7953\"], [0.7777777777777778, \"#fb9f3a\"], [0.8888888888888888, \"#fdca26\"], [1.0, \"#f0f921\"]], \"type\": \"contour\"}], \"contourcarpet\": [{\"colorbar\": {\"outlinewidth\": 0, \"ticks\": \"\"}, \"type\": \"contourcarpet\"}], \"heatmap\": [{\"colorbar\": {\"outlinewidth\": 0, \"ticks\": \"\"}, \"colorscale\": [[0.0, \"#0d0887\"], [0.1111111111111111, \"#46039f\"], [0.2222222222222222, \"#7201a8\"], [0.3333333333333333, \"#9c179e\"], [0.4444444444444444, \"#bd3786\"], [0.5555555555555556, \"#d8576b\"], [0.6666666666666666, \"#ed7953\"], [0.7777777777777778, \"#fb9f3a\"], [0.8888888888888888, \"#fdca26\"], [1.0, \"#f0f921\"]], \"type\": \"heatmap\"}], \"heatmapgl\": [{\"colorbar\": {\"outlinewidth\": 0, \"ticks\": \"\"}, \"colorscale\": [[0.0, \"#0d0887\"], [0.1111111111111111, \"#46039f\"], [0.2222222222222222, \"#7201a8\"], [0.3333333333333333, \"#9c179e\"], [0.4444444444444444, \"#bd3786\"], [0.5555555555555556, \"#d8576b\"], [0.6666666666666666, \"#ed7953\"], [0.7777777777777778, \"#fb9f3a\"], [0.8888888888888888, \"#fdca26\"], [1.0, \"#f0f921\"]], \"type\": \"heatmapgl\"}], \"histogram\": [{\"marker\": {\"colorbar\": {\"outlinewidth\": 0, \"ticks\": \"\"}}, \"type\": \"histogram\"}], \"histogram2d\": [{\"colorbar\": {\"outlinewidth\": 0, \"ticks\": \"\"}, \"colorscale\": [[0.0, \"#0d0887\"], [0.1111111111111111, \"#46039f\"], [0.2222222222222222, \"#7201a8\"], [0.3333333333333333, \"#9c179e\"], [0.4444444444444444, \"#bd3786\"], [0.5555555555555556, \"#d8576b\"], [0.6666666666666666, \"#ed7953\"], [0.7777777777777778, \"#fb9f3a\"], [0.8888888888888888, \"#fdca26\"], [1.0, \"#f0f921\"]], \"type\": \"histogram2d\"}], \"histogram2dcontour\": [{\"colorbar\": {\"outlinewidth\": 0, \"ticks\": \"\"}, \"colorscale\": [[0.0, \"#0d0887\"], [0.1111111111111111, \"#46039f\"], [0.2222222222222222, \"#7201a8\"], [0.3333333333333333, \"#9c179e\"], [0.4444444444444444, \"#bd3786\"], [0.5555555555555556, \"#d8576b\"], [0.6666666666666666, \"#ed7953\"], [0.7777777777777778, \"#fb9f3a\"], [0.8888888888888888, \"#fdca26\"], [1.0, \"#f0f921\"]], \"type\": \"histogram2dcontour\"}], \"mesh3d\": [{\"colorbar\": {\"outlinewidth\": 0, \"ticks\": \"\"}, \"type\": \"mesh3d\"}], \"parcoords\": [{\"line\": {\"colorbar\": {\"outlinewidth\": 0, \"ticks\": \"\"}}, \"type\": \"parcoords\"}], \"scatter\": [{\"marker\": {\"colorbar\": {\"outlinewidth\": 0, \"ticks\": \"\"}}, \"type\": \"scatter\"}], \"scatter3d\": [{\"line\": {\"colorbar\": {\"outlinewidth\": 0, \"ticks\": \"\"}}, \"marker\": {\"colorbar\": {\"outlinewidth\": 0, \"ticks\": \"\"}}, \"type\": \"scatter3d\"}], \"scattercarpet\": [{\"marker\": {\"colorbar\": {\"outlinewidth\": 0, \"ticks\": \"\"}}, \"type\": \"scattercarpet\"}], \"scattergeo\": [{\"marker\": {\"colorbar\": {\"outlinewidth\": 0, \"ticks\": \"\"}}, \"type\": \"scattergeo\"}], \"scattergl\": [{\"marker\": {\"colorbar\": {\"outlinewidth\": 0, \"ticks\": \"\"}}, \"type\": \"scattergl\"}], \"scattermapbox\": [{\"marker\": {\"colorbar\": {\"outlinewidth\": 0, \"ticks\": \"\"}}, \"type\": \"scattermapbox\"}], \"scatterpolar\": [{\"marker\": {\"colorbar\": {\"outlinewidth\": 0, \"ticks\": \"\"}}, \"type\": \"scatterpolar\"}], \"scatterpolargl\": [{\"marker\": {\"colorbar\": {\"outlinewidth\": 0, \"ticks\": \"\"}}, \"type\": \"scatterpolargl\"}], \"scatterternary\": [{\"marker\": {\"colorbar\": {\"outlinewidth\": 0, \"ticks\": \"\"}}, \"type\": \"scatterternary\"}], \"surface\": [{\"colorbar\": {\"outlinewidth\": 0, \"ticks\": \"\"}, \"colorscale\": [[0.0, \"#0d0887\"], [0.1111111111111111, \"#46039f\"], [0.2222222222222222, \"#7201a8\"], [0.3333333333333333, \"#9c179e\"], [0.4444444444444444, \"#bd3786\"], [0.5555555555555556, \"#d8576b\"], [0.6666666666666666, \"#ed7953\"], [0.7777777777777778, \"#fb9f3a\"], [0.8888888888888888, \"#fdca26\"], [1.0, \"#f0f921\"]], \"type\": \"surface\"}], \"table\": [{\"cells\": {\"fill\": {\"color\": \"#EBF0F8\"}, \"line\": {\"color\": \"white\"}}, \"header\": {\"fill\": {\"color\": \"#C8D4E3\"}, \"line\": {\"color\": \"white\"}}, \"type\": \"table\"}]}, \"layout\": {\"annotationdefaults\": {\"arrowcolor\": \"#2a3f5f\", \"arrowhead\": 0, \"arrowwidth\": 1}, \"colorscale\": {\"diverging\": [[0, \"#8e0152\"], [0.1, \"#c51b7d\"], [0.2, \"#de77ae\"], [0.3, \"#f1b6da\"], [0.4, \"#fde0ef\"], [0.5, \"#f7f7f7\"], [0.6, \"#e6f5d0\"], [0.7, \"#b8e186\"], [0.8, \"#7fbc41\"], [0.9, \"#4d9221\"], [1, \"#276419\"]], \"sequential\": [[0.0, \"#0d0887\"], [0.1111111111111111, \"#46039f\"], [0.2222222222222222, \"#7201a8\"], [0.3333333333333333, \"#9c179e\"], [0.4444444444444444, \"#bd3786\"], [0.5555555555555556, \"#d8576b\"], [0.6666666666666666, \"#ed7953\"], [0.7777777777777778, \"#fb9f3a\"], [0.8888888888888888, \"#fdca26\"], [1.0, \"#f0f921\"]], \"sequentialminus\": [[0.0, \"#0d0887\"], [0.1111111111111111, \"#46039f\"], [0.2222222222222222, \"#7201a8\"], [0.3333333333333333, \"#9c179e\"], [0.4444444444444444, \"#bd3786\"], [0.5555555555555556, \"#d8576b\"], [0.6666666666666666, \"#ed7953\"], [0.7777777777777778, \"#fb9f3a\"], [0.8888888888888888, \"#fdca26\"], [1.0, \"#f0f921\"]]}, \"colorway\": [\"#636efa\", \"#EF553B\", \"#00cc96\", \"#ab63fa\", \"#FFA15A\", \"#19d3f3\", \"#FF6692\", \"#B6E880\", \"#FF97FF\", \"#FECB52\"], \"font\": {\"color\": \"#2a3f5f\"}, \"geo\": {\"bgcolor\": \"white\", \"lakecolor\": \"white\", \"landcolor\": \"#E5ECF6\", \"showlakes\": true, \"showland\": true, \"subunitcolor\": \"white\"}, \"hoverlabel\": {\"align\": \"left\"}, \"hovermode\": \"closest\", \"mapbox\": {\"style\": \"light\"}, \"paper_bgcolor\": \"white\", \"plot_bgcolor\": \"#E5ECF6\", \"polar\": {\"angularaxis\": {\"gridcolor\": \"white\", \"linecolor\": \"white\", \"ticks\": \"\"}, \"bgcolor\": \"#E5ECF6\", \"radialaxis\": {\"gridcolor\": \"white\", \"linecolor\": \"white\", \"ticks\": \"\"}}, \"scene\": {\"xaxis\": {\"backgroundcolor\": \"#E5ECF6\", \"gridcolor\": \"white\", \"gridwidth\": 2, \"linecolor\": \"white\", \"showbackground\": true, \"ticks\": \"\", \"zerolinecolor\": \"white\"}, \"yaxis\": {\"backgroundcolor\": \"#E5ECF6\", \"gridcolor\": \"white\", \"gridwidth\": 2, \"linecolor\": \"white\", \"showbackground\": true, \"ticks\": \"\", \"zerolinecolor\": \"white\"}, \"zaxis\": {\"backgroundcolor\": \"#E5ECF6\", \"gridcolor\": \"white\", \"gridwidth\": 2, \"linecolor\": \"white\", \"showbackground\": true, \"ticks\": \"\", \"zerolinecolor\": \"white\"}}, \"shapedefaults\": {\"line\": {\"color\": \"#2a3f5f\"}}, \"ternary\": {\"aaxis\": {\"gridcolor\": \"white\", \"linecolor\": \"white\", \"ticks\": \"\"}, \"baxis\": {\"gridcolor\": \"white\", \"linecolor\": \"white\", \"ticks\": \"\"}, \"bgcolor\": \"#E5ECF6\", \"caxis\": {\"gridcolor\": \"white\", \"linecolor\": \"white\", \"ticks\": \"\"}}, \"title\": {\"x\": 0.05}, \"xaxis\": {\"automargin\": true, \"gridcolor\": \"white\", \"linecolor\": \"white\", \"ticks\": \"\", \"zerolinecolor\": \"white\", \"zerolinewidth\": 2}, \"yaxis\": {\"automargin\": true, \"gridcolor\": \"white\", \"linecolor\": \"white\", \"ticks\": \"\", \"zerolinecolor\": \"white\", \"zerolinewidth\": 2}}}, \"xaxis\": {\"anchor\": \"y\", \"domain\": [0.0, 0.98], \"title\": {\"text\": \"bias\"}}, \"yaxis\": {\"anchor\": \"x\", \"domain\": [0.0, 1.0], \"title\": {\"text\": \"log-odds\"}}},\n",
       "                        {\"responsive\": true}\n",
       "                    ).then(function(){\n",
       "                            \n",
       "var gd = document.getElementById('9b579dfb-2172-40ba-87a0-14db6517d89e');\n",
       "var x = new MutationObserver(function (mutations, observer) {{\n",
       "        var display = window.getComputedStyle(gd).display;\n",
       "        if (!display || display === 'none') {{\n",
       "            console.log([gd, 'removed!']);\n",
       "            Plotly.purge(gd);\n",
       "            observer.disconnect();\n",
       "        }}\n",
       "}});\n",
       "\n",
       "// Listen for the removal of the full notebook cells\n",
       "var notebookContainer = gd.closest('#notebook-container');\n",
       "if (notebookContainer) {{\n",
       "    x.observe(notebookContainer, {childList: true});\n",
       "}}\n",
       "\n",
       "// Listen for the clearing of the current output cell\n",
       "var outputEl = gd.closest('.output');\n",
       "if (outputEl) {{\n",
       "    x.observe(outputEl, {childList: true});\n",
       "}}\n",
       "\n",
       "                        })\n",
       "                };\n",
       "                });\n",
       "            </script>\n",
       "        </div>"
      ]
     },
     "metadata": {},
     "output_type": "display_data"
    },
    {
     "name": "stdout",
     "output_type": "stream",
     "text": [
      "averaging over words\n",
      "Effect: INDIRECT\n",
      "Intervention: replace Neuron(x) with Neuron(x') in a specific layer/neuron\n",
      "x : The PROFESSION said that\n",
      "x': The man said that\n",
      "Input value: x\n",
      "Continuations compared: he / she\n",
      "\n",
      "Odds ratio (p(\"she\"|x, Neuron(x')) / p(\"he\"|x, Neuron(x')) / (p(\"she\"|x) / p(\"he\"|x)):\n",
      "averaging over words\n",
      "Effect: DIRECT\n",
      "Intervention: replace x with x' while preserving Neuron(x) in a specific layer/neuron\n",
      "x : The PROFESSION said that\n",
      "x': The man said that\n",
      "Input value: x\n",
      "Continuations compared: he / she\n",
      "\n",
      "Odds ratio (p(\"she\"|x', Neuron(x)) / p(\"he\"|x', Neuron(x) / (p(\"she\"|x) / p(\"he\"|x)):\n"
     ]
    },
    {
     "data": {
      "application/vnd.plotly.v1+json": {
       "config": {
        "plotlyServerURL": "https://plot.ly"
       },
       "data": [
        {
         "hoverlabel": {
          "namelength": 0
         },
         "hovertemplate": "bias=%{x}<br>log-odds=%{y}",
         "legendgroup": "",
         "marker": {
          "color": "#636efa",
          "symbol": "circle"
         },
         "mode": "markers",
         "name": "",
         "showlegend": false,
         "type": "scatter",
         "x": [
          0.4,
          0,
          0.8,
          -1,
          0.2,
          0.5,
          -0.1,
          -0.2,
          0.7,
          0.4,
          0.6,
          -0.2,
          0.8,
          0.8,
          0.5,
          0.7,
          0.3,
          0.1,
          -0.1,
          0.6,
          0.3,
          0.1,
          0.6,
          0.7,
          0.9,
          0.4,
          0.5,
          0.8,
          0.9,
          0.2,
          0.6,
          0.6,
          0,
          0.5,
          0.2,
          0,
          0.3,
          -0.5,
          0.8,
          0.4,
          0.8,
          0.2,
          0.3,
          0.1,
          0.8,
          0.4,
          0.8,
          0.4,
          0.6,
          0.7,
          0.1,
          0.6,
          0,
          -0.1,
          0.4,
          0.2,
          1,
          -0.9,
          0.7,
          0.7,
          0.7,
          0.5,
          0.5,
          0.6,
          0.7,
          0.9,
          0.5,
          0.4,
          -0.5,
          0,
          0.5,
          0.2,
          0.8,
          0.3,
          0.7,
          0.9,
          0.5,
          0.5,
          0.5,
          0.5,
          0.5,
          -0.3,
          0.5,
          0.5,
          0.3,
          0.7,
          0.4,
          0.7,
          0.5,
          0.2,
          0.7,
          0.7,
          0.7,
          0.8,
          -0.6,
          0.6,
          0.8,
          0.6,
          0.4,
          0.5,
          0.8,
          0.3,
          0.8,
          0,
          0.2,
          0.3,
          0,
          -0.8,
          -0.9,
          -0.1,
          0.8,
          0.2,
          0.7,
          -0.2,
          0.8,
          -0.1,
          0.6,
          0.7,
          -0.3,
          -0.1,
          0.8,
          0.5,
          0.7,
          0.9,
          0.7,
          0.3,
          0.6,
          0.4,
          0.6,
          0.3,
          0.3,
          0.1,
          -0.1,
          -0.2,
          0,
          0.6,
          0.7,
          0.1,
          0.8,
          0.3,
          0.8,
          0.6,
          0.5,
          -0.8,
          0.7,
          0.7,
          0.1,
          -0.2,
          0.6,
          0.3,
          0.3,
          0,
          -0.1,
          0.9,
          0.7,
          -0.8,
          0.6,
          -0.1,
          -0.4,
          0.6,
          -0.3,
          0.5,
          -0.3,
          1,
          -0.9,
          0.9,
          0.3,
          0.6,
          0
         ],
         "xaxis": "x",
         "y": [
          2.071091330061474,
          2.252785276400438,
          0.3352223403910189,
          6.954390234009609,
          2.0924831348894726,
          1.4748621188144386,
          2.702803077493024,
          2.5471126026961186,
          1.3492908194770026,
          0.8752012793127439,
          1.3055951443624128,
          2.009954066804913,
          1.6944197904561333,
          0.46341800148033485,
          0.6545760551169533,
          1.908148908215128,
          2.097626095058506,
          2.1651527910243495,
          2.301914594470666,
          0.9646806757343961,
          2.5040260687382676,
          2.0869131767744205,
          0.9840722569078078,
          1.4400580357208506,
          0.577625858981395,
          1.209992726241794,
          1.6505818550953775,
          -1.0717462008983327,
          1.4224881300206769,
          2.9580463955963956,
          1.0077067485271531,
          2.1742984465983524,
          2.2315116434199265,
          1.4515748334138603,
          1.5027861630630528,
          2.021506114775545,
          0.9530645508495476,
          3.2111137266091307,
          0.022459695018342,
          1.5453542226175752,
          0.2635139437475996,
          1.9153512733974316,
          1.2514922456804853,
          2.0964979619735216,
          0.9283062534285125,
          1.2885654443901975,
          1.2626268146184323,
          0.4707466068569428,
          1.198028126929741,
          -0.15724652588280585,
          1.6603466522991341,
          1.701110659328995,
          1.9601783466896971,
          3.30866644191285,
          1.8186230175084803,
          2.498888284044719,
          0.6733798192951365,
          4.193116107769067,
          2.3945016921385736,
          2.108195182487616,
          1.8212953867105603,
          1.961982163136497,
          1.343675299039781,
          1.4463288583448726,
          2.31266782023759,
          0.8463808750275087,
          0.8866997017671107,
          1.7695760295210254,
          3.21012900944465,
          2.7545056709117164,
          0.5847625471307273,
          0.5055546320947044,
          0.7987913665982926,
          1.3326140455519795,
          1.2896684510456933,
          0.6273680035293705,
          -0.8880886533126479,
          0.02195463676226098,
          0.3732690280862185,
          1.4979413701167625,
          1.729622796475693,
          2.3271428565330337,
          0.5870282690991141,
          2.0289703944229864,
          2.100838612184611,
          2.3070487719876307,
          2.263116621271077,
          1.8189225081956204,
          2.164878085110475,
          2.1436473547808585,
          2.0055294451555277,
          1.7649990516838734,
          1.1624251915467176,
          1.6720693488597265,
          5.131876674807395,
          1.2999311971406338,
          1.02668442404925,
          1.2358095539328702,
          2.559692430791417,
          -1.635388028111328,
          1.4801671168026238,
          2.0593672170137176,
          -0.20688023473808084,
          1.0509802237076347,
          2.3135349443497586,
          1.0350558671551309,
          2.066602335199052,
          5.638353368262267,
          4.684222005121826,
          1.1805729417565218,
          1.6775002224359088,
          1.2242574811141809,
          1.0715118210073955,
          2.5753160303856166,
          0.731306001293444,
          1.955839122011541,
          2.2271763065082073,
          0.5307057138216886,
          2.6015349117292725,
          1.2045683846829298,
          0.9087425774189553,
          1.231495606320794,
          0.6745561895937487,
          -0.2404297533827818,
          1.1253984793826088,
          2.262056655722543,
          1.6000506008834976,
          2.0699100133177337,
          1.1333787186983522,
          0.9646343847604698,
          2.1164756394987907,
          2.1125420019938024,
          2.4669694671687163,
          2.3099173132040556,
          2.6608655749900496,
          1.0671760337747727,
          1.964436525657807,
          2.0583685599544577,
          1.3033818015944345,
          0.881423527677712,
          1.2095907915937025,
          1.436392964823243,
          1.1926897021477996,
          2.3871046807313503,
          1.3202380027573073,
          1.6666406607710311,
          2.339474505118535,
          3.7843001150001254,
          0.8121891439472239,
          2.218304833540795,
          1.2046990778368196,
          2.6264222828367214,
          2.034463082648272,
          1.8746697169879016,
          1.6414337733056568,
          3.297526285651466,
          2.1236909982451406,
          2.5456772294159475,
          3.0304268807247774,
          0.7961998800399548,
          1.706497608994986,
          1.521874032913716,
          2.4857726454092757,
          1.4558524812042677,
          4.83478297457625,
          1.0798025698188216,
          2.531319598249925,
          0.3474924116618813,
          1.961813307923939
         ],
         "yaxis": "y"
        },
        {
         "hoverlabel": {
          "namelength": 0
         },
         "hovertemplate": "<b>OLS trendline</b><br>log-odds = -1.824103 * bias + 2.338878<br>R<sup>2</sup>=0.522818<br><br>bias=%{x}<br>log-odds=%{y} <b>(trend)</b>",
         "legendgroup": "",
         "marker": {
          "color": "#636efa",
          "symbol": "circle"
         },
         "mode": "lines",
         "name": "",
         "showlegend": false,
         "type": "scatter",
         "x": [
          -1,
          -0.9,
          -0.9,
          -0.9,
          -0.8,
          -0.8,
          -0.8,
          -0.6,
          -0.5,
          -0.5,
          -0.4,
          -0.3,
          -0.3,
          -0.3,
          -0.3,
          -0.2,
          -0.2,
          -0.2,
          -0.2,
          -0.2,
          -0.1,
          -0.1,
          -0.1,
          -0.1,
          -0.1,
          -0.1,
          -0.1,
          -0.1,
          -0.1,
          0,
          0,
          0,
          0,
          0,
          0,
          0,
          0,
          0,
          0,
          0.1,
          0.1,
          0.1,
          0.1,
          0.1,
          0.1,
          0.1,
          0.2,
          0.2,
          0.2,
          0.2,
          0.2,
          0.2,
          0.2,
          0.2,
          0.2,
          0.3,
          0.3,
          0.3,
          0.3,
          0.3,
          0.3,
          0.3,
          0.3,
          0.3,
          0.3,
          0.3,
          0.3,
          0.3,
          0.3,
          0.3,
          0.4,
          0.4,
          0.4,
          0.4,
          0.4,
          0.4,
          0.4,
          0.4,
          0.4,
          0.4,
          0.4,
          0.5,
          0.5,
          0.5,
          0.5,
          0.5,
          0.5,
          0.5,
          0.5,
          0.5,
          0.5,
          0.5,
          0.5,
          0.5,
          0.5,
          0.5,
          0.5,
          0.5,
          0.5,
          0.5,
          0.5,
          0.6,
          0.6,
          0.6,
          0.6,
          0.6,
          0.6,
          0.6,
          0.6,
          0.6,
          0.6,
          0.6,
          0.6,
          0.6,
          0.6,
          0.6,
          0.6,
          0.6,
          0.6,
          0.6,
          0.7,
          0.7,
          0.7,
          0.7,
          0.7,
          0.7,
          0.7,
          0.7,
          0.7,
          0.7,
          0.7,
          0.7,
          0.7,
          0.7,
          0.7,
          0.7,
          0.7,
          0.7,
          0.7,
          0.7,
          0.7,
          0.7,
          0.8,
          0.8,
          0.8,
          0.8,
          0.8,
          0.8,
          0.8,
          0.8,
          0.8,
          0.8,
          0.8,
          0.8,
          0.8,
          0.8,
          0.8,
          0.8,
          0.8,
          0.8,
          0.9,
          0.9,
          0.9,
          0.9,
          0.9,
          0.9,
          0.9,
          1,
          1
         ],
         "xaxis": "x",
         "y": [
          4.1629811865804065,
          3.980570839549036,
          3.980570839549036,
          3.980570839549036,
          3.7981604925176655,
          3.7981604925176655,
          3.7981604925176655,
          3.4333397984549245,
          3.250929451423554,
          3.250929451423554,
          3.0685191043921836,
          2.886108757360813,
          2.886108757360813,
          2.886108757360813,
          2.886108757360813,
          2.7036984103294426,
          2.7036984103294426,
          2.7036984103294426,
          2.7036984103294426,
          2.7036984103294426,
          2.521288063298072,
          2.521288063298072,
          2.521288063298072,
          2.521288063298072,
          2.521288063298072,
          2.521288063298072,
          2.521288063298072,
          2.521288063298072,
          2.521288063298072,
          2.3388777162667016,
          2.3388777162667016,
          2.3388777162667016,
          2.3388777162667016,
          2.3388777162667016,
          2.3388777162667016,
          2.3388777162667016,
          2.3388777162667016,
          2.3388777162667016,
          2.3388777162667016,
          2.1564673692353313,
          2.1564673692353313,
          2.1564673692353313,
          2.1564673692353313,
          2.1564673692353313,
          2.1564673692353313,
          2.1564673692353313,
          1.9740570222039606,
          1.9740570222039606,
          1.9740570222039606,
          1.9740570222039606,
          1.9740570222039606,
          1.9740570222039606,
          1.9740570222039606,
          1.9740570222039606,
          1.9740570222039606,
          1.7916466751725904,
          1.7916466751725904,
          1.7916466751725904,
          1.7916466751725904,
          1.7916466751725904,
          1.7916466751725904,
          1.7916466751725904,
          1.7916466751725904,
          1.7916466751725904,
          1.7916466751725904,
          1.7916466751725904,
          1.7916466751725904,
          1.7916466751725904,
          1.7916466751725904,
          1.7916466751725904,
          1.6092363281412196,
          1.6092363281412196,
          1.6092363281412196,
          1.6092363281412196,
          1.6092363281412196,
          1.6092363281412196,
          1.6092363281412196,
          1.6092363281412196,
          1.6092363281412196,
          1.6092363281412196,
          1.6092363281412196,
          1.4268259811098494,
          1.4268259811098494,
          1.4268259811098494,
          1.4268259811098494,
          1.4268259811098494,
          1.4268259811098494,
          1.4268259811098494,
          1.4268259811098494,
          1.4268259811098494,
          1.4268259811098494,
          1.4268259811098494,
          1.4268259811098494,
          1.4268259811098494,
          1.4268259811098494,
          1.4268259811098494,
          1.4268259811098494,
          1.4268259811098494,
          1.4268259811098494,
          1.4268259811098494,
          1.4268259811098494,
          1.2444156340784789,
          1.2444156340784789,
          1.2444156340784789,
          1.2444156340784789,
          1.2444156340784789,
          1.2444156340784789,
          1.2444156340784789,
          1.2444156340784789,
          1.2444156340784789,
          1.2444156340784789,
          1.2444156340784789,
          1.2444156340784789,
          1.2444156340784789,
          1.2444156340784789,
          1.2444156340784789,
          1.2444156340784789,
          1.2444156340784789,
          1.2444156340784789,
          1.2444156340784789,
          1.0620052870471084,
          1.0620052870471084,
          1.0620052870471084,
          1.0620052870471084,
          1.0620052870471084,
          1.0620052870471084,
          1.0620052870471084,
          1.0620052870471084,
          1.0620052870471084,
          1.0620052870471084,
          1.0620052870471084,
          1.0620052870471084,
          1.0620052870471084,
          1.0620052870471084,
          1.0620052870471084,
          1.0620052870471084,
          1.0620052870471084,
          1.0620052870471084,
          1.0620052870471084,
          1.0620052870471084,
          1.0620052870471084,
          1.0620052870471084,
          0.8795949400157377,
          0.8795949400157377,
          0.8795949400157377,
          0.8795949400157377,
          0.8795949400157377,
          0.8795949400157377,
          0.8795949400157377,
          0.8795949400157377,
          0.8795949400157377,
          0.8795949400157377,
          0.8795949400157377,
          0.8795949400157377,
          0.8795949400157377,
          0.8795949400157377,
          0.8795949400157377,
          0.8795949400157377,
          0.8795949400157377,
          0.8795949400157377,
          0.6971845929843674,
          0.6971845929843674,
          0.6971845929843674,
          0.6971845929843674,
          0.6971845929843674,
          0.6971845929843674,
          0.6971845929843674,
          0.5147742459529969,
          0.5147742459529969
         ],
         "yaxis": "y"
        }
       ],
       "layout": {
        "height": 600,
        "legend": {
         "tracegroupgap": 0
        },
        "margin": {
         "t": 60
        },
        "template": {
         "data": {
          "bar": [
           {
            "error_x": {
             "color": "#2a3f5f"
            },
            "error_y": {
             "color": "#2a3f5f"
            },
            "marker": {
             "line": {
              "color": "#E5ECF6",
              "width": 0.5
             }
            },
            "type": "bar"
           }
          ],
          "barpolar": [
           {
            "marker": {
             "line": {
              "color": "#E5ECF6",
              "width": 0.5
             }
            },
            "type": "barpolar"
           }
          ],
          "carpet": [
           {
            "aaxis": {
             "endlinecolor": "#2a3f5f",
             "gridcolor": "white",
             "linecolor": "white",
             "minorgridcolor": "white",
             "startlinecolor": "#2a3f5f"
            },
            "baxis": {
             "endlinecolor": "#2a3f5f",
             "gridcolor": "white",
             "linecolor": "white",
             "minorgridcolor": "white",
             "startlinecolor": "#2a3f5f"
            },
            "type": "carpet"
           }
          ],
          "choropleth": [
           {
            "colorbar": {
             "outlinewidth": 0,
             "ticks": ""
            },
            "type": "choropleth"
           }
          ],
          "contour": [
           {
            "colorbar": {
             "outlinewidth": 0,
             "ticks": ""
            },
            "colorscale": [
             [
              0,
              "#0d0887"
             ],
             [
              0.1111111111111111,
              "#46039f"
             ],
             [
              0.2222222222222222,
              "#7201a8"
             ],
             [
              0.3333333333333333,
              "#9c179e"
             ],
             [
              0.4444444444444444,
              "#bd3786"
             ],
             [
              0.5555555555555556,
              "#d8576b"
             ],
             [
              0.6666666666666666,
              "#ed7953"
             ],
             [
              0.7777777777777778,
              "#fb9f3a"
             ],
             [
              0.8888888888888888,
              "#fdca26"
             ],
             [
              1,
              "#f0f921"
             ]
            ],
            "type": "contour"
           }
          ],
          "contourcarpet": [
           {
            "colorbar": {
             "outlinewidth": 0,
             "ticks": ""
            },
            "type": "contourcarpet"
           }
          ],
          "heatmap": [
           {
            "colorbar": {
             "outlinewidth": 0,
             "ticks": ""
            },
            "colorscale": [
             [
              0,
              "#0d0887"
             ],
             [
              0.1111111111111111,
              "#46039f"
             ],
             [
              0.2222222222222222,
              "#7201a8"
             ],
             [
              0.3333333333333333,
              "#9c179e"
             ],
             [
              0.4444444444444444,
              "#bd3786"
             ],
             [
              0.5555555555555556,
              "#d8576b"
             ],
             [
              0.6666666666666666,
              "#ed7953"
             ],
             [
              0.7777777777777778,
              "#fb9f3a"
             ],
             [
              0.8888888888888888,
              "#fdca26"
             ],
             [
              1,
              "#f0f921"
             ]
            ],
            "type": "heatmap"
           }
          ],
          "heatmapgl": [
           {
            "colorbar": {
             "outlinewidth": 0,
             "ticks": ""
            },
            "colorscale": [
             [
              0,
              "#0d0887"
             ],
             [
              0.1111111111111111,
              "#46039f"
             ],
             [
              0.2222222222222222,
              "#7201a8"
             ],
             [
              0.3333333333333333,
              "#9c179e"
             ],
             [
              0.4444444444444444,
              "#bd3786"
             ],
             [
              0.5555555555555556,
              "#d8576b"
             ],
             [
              0.6666666666666666,
              "#ed7953"
             ],
             [
              0.7777777777777778,
              "#fb9f3a"
             ],
             [
              0.8888888888888888,
              "#fdca26"
             ],
             [
              1,
              "#f0f921"
             ]
            ],
            "type": "heatmapgl"
           }
          ],
          "histogram": [
           {
            "marker": {
             "colorbar": {
              "outlinewidth": 0,
              "ticks": ""
             }
            },
            "type": "histogram"
           }
          ],
          "histogram2d": [
           {
            "colorbar": {
             "outlinewidth": 0,
             "ticks": ""
            },
            "colorscale": [
             [
              0,
              "#0d0887"
             ],
             [
              0.1111111111111111,
              "#46039f"
             ],
             [
              0.2222222222222222,
              "#7201a8"
             ],
             [
              0.3333333333333333,
              "#9c179e"
             ],
             [
              0.4444444444444444,
              "#bd3786"
             ],
             [
              0.5555555555555556,
              "#d8576b"
             ],
             [
              0.6666666666666666,
              "#ed7953"
             ],
             [
              0.7777777777777778,
              "#fb9f3a"
             ],
             [
              0.8888888888888888,
              "#fdca26"
             ],
             [
              1,
              "#f0f921"
             ]
            ],
            "type": "histogram2d"
           }
          ],
          "histogram2dcontour": [
           {
            "colorbar": {
             "outlinewidth": 0,
             "ticks": ""
            },
            "colorscale": [
             [
              0,
              "#0d0887"
             ],
             [
              0.1111111111111111,
              "#46039f"
             ],
             [
              0.2222222222222222,
              "#7201a8"
             ],
             [
              0.3333333333333333,
              "#9c179e"
             ],
             [
              0.4444444444444444,
              "#bd3786"
             ],
             [
              0.5555555555555556,
              "#d8576b"
             ],
             [
              0.6666666666666666,
              "#ed7953"
             ],
             [
              0.7777777777777778,
              "#fb9f3a"
             ],
             [
              0.8888888888888888,
              "#fdca26"
             ],
             [
              1,
              "#f0f921"
             ]
            ],
            "type": "histogram2dcontour"
           }
          ],
          "mesh3d": [
           {
            "colorbar": {
             "outlinewidth": 0,
             "ticks": ""
            },
            "type": "mesh3d"
           }
          ],
          "parcoords": [
           {
            "line": {
             "colorbar": {
              "outlinewidth": 0,
              "ticks": ""
             }
            },
            "type": "parcoords"
           }
          ],
          "scatter": [
           {
            "marker": {
             "colorbar": {
              "outlinewidth": 0,
              "ticks": ""
             }
            },
            "type": "scatter"
           }
          ],
          "scatter3d": [
           {
            "line": {
             "colorbar": {
              "outlinewidth": 0,
              "ticks": ""
             }
            },
            "marker": {
             "colorbar": {
              "outlinewidth": 0,
              "ticks": ""
             }
            },
            "type": "scatter3d"
           }
          ],
          "scattercarpet": [
           {
            "marker": {
             "colorbar": {
              "outlinewidth": 0,
              "ticks": ""
             }
            },
            "type": "scattercarpet"
           }
          ],
          "scattergeo": [
           {
            "marker": {
             "colorbar": {
              "outlinewidth": 0,
              "ticks": ""
             }
            },
            "type": "scattergeo"
           }
          ],
          "scattergl": [
           {
            "marker": {
             "colorbar": {
              "outlinewidth": 0,
              "ticks": ""
             }
            },
            "type": "scattergl"
           }
          ],
          "scattermapbox": [
           {
            "marker": {
             "colorbar": {
              "outlinewidth": 0,
              "ticks": ""
             }
            },
            "type": "scattermapbox"
           }
          ],
          "scatterpolar": [
           {
            "marker": {
             "colorbar": {
              "outlinewidth": 0,
              "ticks": ""
             }
            },
            "type": "scatterpolar"
           }
          ],
          "scatterpolargl": [
           {
            "marker": {
             "colorbar": {
              "outlinewidth": 0,
              "ticks": ""
             }
            },
            "type": "scatterpolargl"
           }
          ],
          "scatterternary": [
           {
            "marker": {
             "colorbar": {
              "outlinewidth": 0,
              "ticks": ""
             }
            },
            "type": "scatterternary"
           }
          ],
          "surface": [
           {
            "colorbar": {
             "outlinewidth": 0,
             "ticks": ""
            },
            "colorscale": [
             [
              0,
              "#0d0887"
             ],
             [
              0.1111111111111111,
              "#46039f"
             ],
             [
              0.2222222222222222,
              "#7201a8"
             ],
             [
              0.3333333333333333,
              "#9c179e"
             ],
             [
              0.4444444444444444,
              "#bd3786"
             ],
             [
              0.5555555555555556,
              "#d8576b"
             ],
             [
              0.6666666666666666,
              "#ed7953"
             ],
             [
              0.7777777777777778,
              "#fb9f3a"
             ],
             [
              0.8888888888888888,
              "#fdca26"
             ],
             [
              1,
              "#f0f921"
             ]
            ],
            "type": "surface"
           }
          ],
          "table": [
           {
            "cells": {
             "fill": {
              "color": "#EBF0F8"
             },
             "line": {
              "color": "white"
             }
            },
            "header": {
             "fill": {
              "color": "#C8D4E3"
             },
             "line": {
              "color": "white"
             }
            },
            "type": "table"
           }
          ]
         },
         "layout": {
          "annotationdefaults": {
           "arrowcolor": "#2a3f5f",
           "arrowhead": 0,
           "arrowwidth": 1
          },
          "colorscale": {
           "diverging": [
            [
             0,
             "#8e0152"
            ],
            [
             0.1,
             "#c51b7d"
            ],
            [
             0.2,
             "#de77ae"
            ],
            [
             0.3,
             "#f1b6da"
            ],
            [
             0.4,
             "#fde0ef"
            ],
            [
             0.5,
             "#f7f7f7"
            ],
            [
             0.6,
             "#e6f5d0"
            ],
            [
             0.7,
             "#b8e186"
            ],
            [
             0.8,
             "#7fbc41"
            ],
            [
             0.9,
             "#4d9221"
            ],
            [
             1,
             "#276419"
            ]
           ],
           "sequential": [
            [
             0,
             "#0d0887"
            ],
            [
             0.1111111111111111,
             "#46039f"
            ],
            [
             0.2222222222222222,
             "#7201a8"
            ],
            [
             0.3333333333333333,
             "#9c179e"
            ],
            [
             0.4444444444444444,
             "#bd3786"
            ],
            [
             0.5555555555555556,
             "#d8576b"
            ],
            [
             0.6666666666666666,
             "#ed7953"
            ],
            [
             0.7777777777777778,
             "#fb9f3a"
            ],
            [
             0.8888888888888888,
             "#fdca26"
            ],
            [
             1,
             "#f0f921"
            ]
           ],
           "sequentialminus": [
            [
             0,
             "#0d0887"
            ],
            [
             0.1111111111111111,
             "#46039f"
            ],
            [
             0.2222222222222222,
             "#7201a8"
            ],
            [
             0.3333333333333333,
             "#9c179e"
            ],
            [
             0.4444444444444444,
             "#bd3786"
            ],
            [
             0.5555555555555556,
             "#d8576b"
            ],
            [
             0.6666666666666666,
             "#ed7953"
            ],
            [
             0.7777777777777778,
             "#fb9f3a"
            ],
            [
             0.8888888888888888,
             "#fdca26"
            ],
            [
             1,
             "#f0f921"
            ]
           ]
          },
          "colorway": [
           "#636efa",
           "#EF553B",
           "#00cc96",
           "#ab63fa",
           "#FFA15A",
           "#19d3f3",
           "#FF6692",
           "#B6E880",
           "#FF97FF",
           "#FECB52"
          ],
          "font": {
           "color": "#2a3f5f"
          },
          "geo": {
           "bgcolor": "white",
           "lakecolor": "white",
           "landcolor": "#E5ECF6",
           "showlakes": true,
           "showland": true,
           "subunitcolor": "white"
          },
          "hoverlabel": {
           "align": "left"
          },
          "hovermode": "closest",
          "mapbox": {
           "style": "light"
          },
          "paper_bgcolor": "white",
          "plot_bgcolor": "#E5ECF6",
          "polar": {
           "angularaxis": {
            "gridcolor": "white",
            "linecolor": "white",
            "ticks": ""
           },
           "bgcolor": "#E5ECF6",
           "radialaxis": {
            "gridcolor": "white",
            "linecolor": "white",
            "ticks": ""
           }
          },
          "scene": {
           "xaxis": {
            "backgroundcolor": "#E5ECF6",
            "gridcolor": "white",
            "gridwidth": 2,
            "linecolor": "white",
            "showbackground": true,
            "ticks": "",
            "zerolinecolor": "white"
           },
           "yaxis": {
            "backgroundcolor": "#E5ECF6",
            "gridcolor": "white",
            "gridwidth": 2,
            "linecolor": "white",
            "showbackground": true,
            "ticks": "",
            "zerolinecolor": "white"
           },
           "zaxis": {
            "backgroundcolor": "#E5ECF6",
            "gridcolor": "white",
            "gridwidth": 2,
            "linecolor": "white",
            "showbackground": true,
            "ticks": "",
            "zerolinecolor": "white"
           }
          },
          "shapedefaults": {
           "line": {
            "color": "#2a3f5f"
           }
          },
          "ternary": {
           "aaxis": {
            "gridcolor": "white",
            "linecolor": "white",
            "ticks": ""
           },
           "baxis": {
            "gridcolor": "white",
            "linecolor": "white",
            "ticks": ""
           },
           "bgcolor": "#E5ECF6",
           "caxis": {
            "gridcolor": "white",
            "linecolor": "white",
            "ticks": ""
           }
          },
          "title": {
           "x": 0.05
          },
          "xaxis": {
           "automargin": true,
           "gridcolor": "white",
           "linecolor": "white",
           "ticks": "",
           "zerolinecolor": "white",
           "zerolinewidth": 2
          },
          "yaxis": {
           "automargin": true,
           "gridcolor": "white",
           "linecolor": "white",
           "ticks": "",
           "zerolinecolor": "white",
           "zerolinewidth": 2
          }
         }
        },
        "xaxis": {
         "anchor": "y",
         "domain": [
          0,
          0.98
         ],
         "title": {
          "text": "bias"
         }
        },
        "yaxis": {
         "anchor": "x",
         "domain": [
          0,
          1
         ],
         "title": {
          "text": "log-odds"
         }
        }
       }
      },
      "text/html": [
       "<div>\n",
       "        \n",
       "        \n",
       "            <div id=\"deed5846-2aa5-421a-a3f4-5472bde2a3ea\" class=\"plotly-graph-div\" style=\"height:600px; width:100%;\"></div>\n",
       "            <script type=\"text/javascript\">\n",
       "                require([\"plotly\"], function(Plotly) {\n",
       "                    window.PLOTLYENV=window.PLOTLYENV || {};\n",
       "                    \n",
       "                if (document.getElementById(\"deed5846-2aa5-421a-a3f4-5472bde2a3ea\")) {\n",
       "                    Plotly.newPlot(\n",
       "                        'deed5846-2aa5-421a-a3f4-5472bde2a3ea',\n",
       "                        [{\"hoverlabel\": {\"namelength\": 0}, \"hovertemplate\": \"bias=%{x}<br>log-odds=%{y}\", \"legendgroup\": \"\", \"marker\": {\"color\": \"#636efa\", \"symbol\": \"circle\"}, \"mode\": \"markers\", \"name\": \"\", \"showlegend\": false, \"type\": \"scatter\", \"x\": [0.4, 0.0, 0.8, -1.0, 0.2, 0.5, -0.1, -0.2, 0.7, 0.4, 0.6, -0.2, 0.8, 0.8, 0.5, 0.7, 0.3, 0.1, -0.1, 0.6, 0.3, 0.1, 0.6, 0.7, 0.9, 0.4, 0.5, 0.8, 0.9, 0.2, 0.6, 0.6, 0.0, 0.5, 0.2, 0.0, 0.3, -0.5, 0.8, 0.4, 0.8, 0.2, 0.3, 0.1, 0.8, 0.4, 0.8, 0.4, 0.6, 0.7, 0.1, 0.6, 0.0, -0.1, 0.4, 0.2, 1.0, -0.9, 0.7, 0.7, 0.7, 0.5, 0.5, 0.6, 0.7, 0.9, 0.5, 0.4, -0.5, 0.0, 0.5, 0.2, 0.8, 0.3, 0.7, 0.9, 0.5, 0.5, 0.5, 0.5, 0.5, -0.3, 0.5, 0.5, 0.3, 0.7, 0.4, 0.7, 0.5, 0.2, 0.7, 0.7, 0.7, 0.8, -0.6, 0.6, 0.8, 0.6, 0.4, 0.5, 0.8, 0.3, 0.8, 0.0, 0.2, 0.3, 0.0, -0.8, -0.9, -0.1, 0.8, 0.2, 0.7, -0.2, 0.8, -0.1, 0.6, 0.7, -0.3, -0.1, 0.8, 0.5, 0.7, 0.9, 0.7, 0.3, 0.6, 0.4, 0.6, 0.3, 0.3, 0.1, -0.1, -0.2, 0.0, 0.6, 0.7, 0.1, 0.8, 0.3, 0.8, 0.6, 0.5, -0.8, 0.7, 0.7, 0.1, -0.2, 0.6, 0.3, 0.3, 0.0, -0.1, 0.9, 0.7, -0.8, 0.6, -0.1, -0.4, 0.6, -0.3, 0.5, -0.3, 1.0, -0.9, 0.9, 0.3, 0.6, 0.0], \"xaxis\": \"x\", \"y\": [2.071091330061474, 2.252785276400438, 0.3352223403910189, 6.954390234009609, 2.0924831348894726, 1.4748621188144386, 2.702803077493024, 2.5471126026961186, 1.3492908194770026, 0.8752012793127439, 1.3055951443624128, 2.009954066804913, 1.6944197904561333, 0.46341800148033485, 0.6545760551169533, 1.908148908215128, 2.097626095058506, 2.1651527910243495, 2.301914594470666, 0.9646806757343961, 2.5040260687382676, 2.0869131767744205, 0.9840722569078078, 1.4400580357208506, 0.577625858981395, 1.209992726241794, 1.6505818550953775, -1.0717462008983327, 1.4224881300206769, 2.9580463955963956, 1.0077067485271531, 2.1742984465983524, 2.2315116434199265, 1.4515748334138603, 1.5027861630630528, 2.021506114775545, 0.9530645508495476, 3.2111137266091307, 0.022459695018342, 1.5453542226175752, 0.2635139437475996, 1.9153512733974316, 1.2514922456804853, 2.0964979619735216, 0.9283062534285125, 1.2885654443901975, 1.2626268146184323, 0.4707466068569428, 1.198028126929741, -0.15724652588280585, 1.6603466522991341, 1.701110659328995, 1.9601783466896971, 3.30866644191285, 1.8186230175084803, 2.498888284044719, 0.6733798192951365, 4.193116107769067, 2.3945016921385736, 2.108195182487616, 1.8212953867105603, 1.961982163136497, 1.343675299039781, 1.4463288583448726, 2.31266782023759, 0.8463808750275087, 0.8866997017671107, 1.7695760295210254, 3.21012900944465, 2.7545056709117164, 0.5847625471307273, 0.5055546320947044, 0.7987913665982926, 1.3326140455519795, 1.2896684510456933, 0.6273680035293705, -0.8880886533126479, 0.02195463676226098, 0.3732690280862185, 1.4979413701167625, 1.729622796475693, 2.3271428565330337, 0.5870282690991141, 2.0289703944229864, 2.100838612184611, 2.3070487719876307, 2.263116621271077, 1.8189225081956204, 2.164878085110475, 2.1436473547808585, 2.0055294451555277, 1.7649990516838734, 1.1624251915467176, 1.6720693488597265, 5.131876674807395, 1.2999311971406338, 1.02668442404925, 1.2358095539328702, 2.559692430791417, -1.635388028111328, 1.4801671168026238, 2.0593672170137176, -0.20688023473808084, 1.0509802237076347, 2.3135349443497586, 1.0350558671551309, 2.066602335199052, 5.638353368262267, 4.684222005121826, 1.1805729417565218, 1.6775002224359088, 1.2242574811141809, 1.0715118210073955, 2.5753160303856166, 0.731306001293444, 1.955839122011541, 2.2271763065082073, 0.5307057138216886, 2.6015349117292725, 1.2045683846829298, 0.9087425774189553, 1.231495606320794, 0.6745561895937487, -0.2404297533827818, 1.1253984793826088, 2.262056655722543, 1.6000506008834976, 2.0699100133177337, 1.1333787186983522, 0.9646343847604698, 2.1164756394987907, 2.1125420019938024, 2.4669694671687163, 2.3099173132040556, 2.6608655749900496, 1.0671760337747727, 1.964436525657807, 2.0583685599544577, 1.3033818015944345, 0.881423527677712, 1.2095907915937025, 1.436392964823243, 1.1926897021477996, 2.3871046807313503, 1.3202380027573073, 1.6666406607710311, 2.339474505118535, 3.7843001150001254, 0.8121891439472239, 2.218304833540795, 1.2046990778368196, 2.6264222828367214, 2.034463082648272, 1.8746697169879016, 1.6414337733056568, 3.297526285651466, 2.1236909982451406, 2.5456772294159475, 3.0304268807247774, 0.7961998800399548, 1.706497608994986, 1.521874032913716, 2.4857726454092757, 1.4558524812042677, 4.83478297457625, 1.0798025698188216, 2.531319598249925, 0.3474924116618813, 1.961813307923939], \"yaxis\": \"y\"}, {\"hoverlabel\": {\"namelength\": 0}, \"hovertemplate\": \"<b>OLS trendline</b><br>log-odds = -1.824103 * bias + 2.338878<br>R<sup>2</sup>=0.522818<br><br>bias=%{x}<br>log-odds=%{y} <b>(trend)</b>\", \"legendgroup\": \"\", \"marker\": {\"color\": \"#636efa\", \"symbol\": \"circle\"}, \"mode\": \"lines\", \"name\": \"\", \"showlegend\": false, \"type\": \"scatter\", \"x\": [-1.0, -0.9, -0.9, -0.9, -0.8, -0.8, -0.8, -0.6, -0.5, -0.5, -0.4, -0.3, -0.3, -0.3, -0.3, -0.2, -0.2, -0.2, -0.2, -0.2, -0.1, -0.1, -0.1, -0.1, -0.1, -0.1, -0.1, -0.1, -0.1, 0.0, 0.0, 0.0, 0.0, 0.0, 0.0, 0.0, 0.0, 0.0, 0.0, 0.1, 0.1, 0.1, 0.1, 0.1, 0.1, 0.1, 0.2, 0.2, 0.2, 0.2, 0.2, 0.2, 0.2, 0.2, 0.2, 0.3, 0.3, 0.3, 0.3, 0.3, 0.3, 0.3, 0.3, 0.3, 0.3, 0.3, 0.3, 0.3, 0.3, 0.3, 0.4, 0.4, 0.4, 0.4, 0.4, 0.4, 0.4, 0.4, 0.4, 0.4, 0.4, 0.5, 0.5, 0.5, 0.5, 0.5, 0.5, 0.5, 0.5, 0.5, 0.5, 0.5, 0.5, 0.5, 0.5, 0.5, 0.5, 0.5, 0.5, 0.5, 0.5, 0.6, 0.6, 0.6, 0.6, 0.6, 0.6, 0.6, 0.6, 0.6, 0.6, 0.6, 0.6, 0.6, 0.6, 0.6, 0.6, 0.6, 0.6, 0.6, 0.7, 0.7, 0.7, 0.7, 0.7, 0.7, 0.7, 0.7, 0.7, 0.7, 0.7, 0.7, 0.7, 0.7, 0.7, 0.7, 0.7, 0.7, 0.7, 0.7, 0.7, 0.7, 0.8, 0.8, 0.8, 0.8, 0.8, 0.8, 0.8, 0.8, 0.8, 0.8, 0.8, 0.8, 0.8, 0.8, 0.8, 0.8, 0.8, 0.8, 0.9, 0.9, 0.9, 0.9, 0.9, 0.9, 0.9, 1.0, 1.0], \"xaxis\": \"x\", \"y\": [4.1629811865804065, 3.980570839549036, 3.980570839549036, 3.980570839549036, 3.7981604925176655, 3.7981604925176655, 3.7981604925176655, 3.4333397984549245, 3.250929451423554, 3.250929451423554, 3.0685191043921836, 2.886108757360813, 2.886108757360813, 2.886108757360813, 2.886108757360813, 2.7036984103294426, 2.7036984103294426, 2.7036984103294426, 2.7036984103294426, 2.7036984103294426, 2.521288063298072, 2.521288063298072, 2.521288063298072, 2.521288063298072, 2.521288063298072, 2.521288063298072, 2.521288063298072, 2.521288063298072, 2.521288063298072, 2.3388777162667016, 2.3388777162667016, 2.3388777162667016, 2.3388777162667016, 2.3388777162667016, 2.3388777162667016, 2.3388777162667016, 2.3388777162667016, 2.3388777162667016, 2.3388777162667016, 2.1564673692353313, 2.1564673692353313, 2.1564673692353313, 2.1564673692353313, 2.1564673692353313, 2.1564673692353313, 2.1564673692353313, 1.9740570222039606, 1.9740570222039606, 1.9740570222039606, 1.9740570222039606, 1.9740570222039606, 1.9740570222039606, 1.9740570222039606, 1.9740570222039606, 1.9740570222039606, 1.7916466751725904, 1.7916466751725904, 1.7916466751725904, 1.7916466751725904, 1.7916466751725904, 1.7916466751725904, 1.7916466751725904, 1.7916466751725904, 1.7916466751725904, 1.7916466751725904, 1.7916466751725904, 1.7916466751725904, 1.7916466751725904, 1.7916466751725904, 1.7916466751725904, 1.6092363281412196, 1.6092363281412196, 1.6092363281412196, 1.6092363281412196, 1.6092363281412196, 1.6092363281412196, 1.6092363281412196, 1.6092363281412196, 1.6092363281412196, 1.6092363281412196, 1.6092363281412196, 1.4268259811098494, 1.4268259811098494, 1.4268259811098494, 1.4268259811098494, 1.4268259811098494, 1.4268259811098494, 1.4268259811098494, 1.4268259811098494, 1.4268259811098494, 1.4268259811098494, 1.4268259811098494, 1.4268259811098494, 1.4268259811098494, 1.4268259811098494, 1.4268259811098494, 1.4268259811098494, 1.4268259811098494, 1.4268259811098494, 1.4268259811098494, 1.4268259811098494, 1.2444156340784789, 1.2444156340784789, 1.2444156340784789, 1.2444156340784789, 1.2444156340784789, 1.2444156340784789, 1.2444156340784789, 1.2444156340784789, 1.2444156340784789, 1.2444156340784789, 1.2444156340784789, 1.2444156340784789, 1.2444156340784789, 1.2444156340784789, 1.2444156340784789, 1.2444156340784789, 1.2444156340784789, 1.2444156340784789, 1.2444156340784789, 1.0620052870471084, 1.0620052870471084, 1.0620052870471084, 1.0620052870471084, 1.0620052870471084, 1.0620052870471084, 1.0620052870471084, 1.0620052870471084, 1.0620052870471084, 1.0620052870471084, 1.0620052870471084, 1.0620052870471084, 1.0620052870471084, 1.0620052870471084, 1.0620052870471084, 1.0620052870471084, 1.0620052870471084, 1.0620052870471084, 1.0620052870471084, 1.0620052870471084, 1.0620052870471084, 1.0620052870471084, 0.8795949400157377, 0.8795949400157377, 0.8795949400157377, 0.8795949400157377, 0.8795949400157377, 0.8795949400157377, 0.8795949400157377, 0.8795949400157377, 0.8795949400157377, 0.8795949400157377, 0.8795949400157377, 0.8795949400157377, 0.8795949400157377, 0.8795949400157377, 0.8795949400157377, 0.8795949400157377, 0.8795949400157377, 0.8795949400157377, 0.6971845929843674, 0.6971845929843674, 0.6971845929843674, 0.6971845929843674, 0.6971845929843674, 0.6971845929843674, 0.6971845929843674, 0.5147742459529969, 0.5147742459529969], \"yaxis\": \"y\"}],\n",
       "                        {\"height\": 600, \"legend\": {\"tracegroupgap\": 0}, \"margin\": {\"t\": 60}, \"template\": {\"data\": {\"bar\": [{\"error_x\": {\"color\": \"#2a3f5f\"}, \"error_y\": {\"color\": \"#2a3f5f\"}, \"marker\": {\"line\": {\"color\": \"#E5ECF6\", \"width\": 0.5}}, \"type\": \"bar\"}], \"barpolar\": [{\"marker\": {\"line\": {\"color\": \"#E5ECF6\", \"width\": 0.5}}, \"type\": \"barpolar\"}], \"carpet\": [{\"aaxis\": {\"endlinecolor\": \"#2a3f5f\", \"gridcolor\": \"white\", \"linecolor\": \"white\", \"minorgridcolor\": \"white\", \"startlinecolor\": \"#2a3f5f\"}, \"baxis\": {\"endlinecolor\": \"#2a3f5f\", \"gridcolor\": \"white\", \"linecolor\": \"white\", \"minorgridcolor\": \"white\", \"startlinecolor\": \"#2a3f5f\"}, \"type\": \"carpet\"}], \"choropleth\": [{\"colorbar\": {\"outlinewidth\": 0, \"ticks\": \"\"}, \"type\": \"choropleth\"}], \"contour\": [{\"colorbar\": {\"outlinewidth\": 0, \"ticks\": \"\"}, \"colorscale\": [[0.0, \"#0d0887\"], [0.1111111111111111, \"#46039f\"], [0.2222222222222222, \"#7201a8\"], [0.3333333333333333, \"#9c179e\"], [0.4444444444444444, \"#bd3786\"], [0.5555555555555556, \"#d8576b\"], [0.6666666666666666, \"#ed7953\"], [0.7777777777777778, \"#fb9f3a\"], [0.8888888888888888, \"#fdca26\"], [1.0, \"#f0f921\"]], \"type\": \"contour\"}], \"contourcarpet\": [{\"colorbar\": {\"outlinewidth\": 0, \"ticks\": \"\"}, \"type\": \"contourcarpet\"}], \"heatmap\": [{\"colorbar\": {\"outlinewidth\": 0, \"ticks\": \"\"}, \"colorscale\": [[0.0, \"#0d0887\"], [0.1111111111111111, \"#46039f\"], [0.2222222222222222, \"#7201a8\"], [0.3333333333333333, \"#9c179e\"], [0.4444444444444444, \"#bd3786\"], [0.5555555555555556, \"#d8576b\"], [0.6666666666666666, \"#ed7953\"], [0.7777777777777778, \"#fb9f3a\"], [0.8888888888888888, \"#fdca26\"], [1.0, \"#f0f921\"]], \"type\": \"heatmap\"}], \"heatmapgl\": [{\"colorbar\": {\"outlinewidth\": 0, \"ticks\": \"\"}, \"colorscale\": [[0.0, \"#0d0887\"], [0.1111111111111111, \"#46039f\"], [0.2222222222222222, \"#7201a8\"], [0.3333333333333333, \"#9c179e\"], [0.4444444444444444, \"#bd3786\"], [0.5555555555555556, \"#d8576b\"], [0.6666666666666666, \"#ed7953\"], [0.7777777777777778, \"#fb9f3a\"], [0.8888888888888888, \"#fdca26\"], [1.0, \"#f0f921\"]], \"type\": \"heatmapgl\"}], \"histogram\": [{\"marker\": {\"colorbar\": {\"outlinewidth\": 0, \"ticks\": \"\"}}, \"type\": \"histogram\"}], \"histogram2d\": [{\"colorbar\": {\"outlinewidth\": 0, \"ticks\": \"\"}, \"colorscale\": [[0.0, \"#0d0887\"], [0.1111111111111111, \"#46039f\"], [0.2222222222222222, \"#7201a8\"], [0.3333333333333333, \"#9c179e\"], [0.4444444444444444, \"#bd3786\"], [0.5555555555555556, \"#d8576b\"], [0.6666666666666666, \"#ed7953\"], [0.7777777777777778, \"#fb9f3a\"], [0.8888888888888888, \"#fdca26\"], [1.0, \"#f0f921\"]], \"type\": \"histogram2d\"}], \"histogram2dcontour\": [{\"colorbar\": {\"outlinewidth\": 0, \"ticks\": \"\"}, \"colorscale\": [[0.0, \"#0d0887\"], [0.1111111111111111, \"#46039f\"], [0.2222222222222222, \"#7201a8\"], [0.3333333333333333, \"#9c179e\"], [0.4444444444444444, \"#bd3786\"], [0.5555555555555556, \"#d8576b\"], [0.6666666666666666, \"#ed7953\"], [0.7777777777777778, \"#fb9f3a\"], [0.8888888888888888, \"#fdca26\"], [1.0, \"#f0f921\"]], \"type\": \"histogram2dcontour\"}], \"mesh3d\": [{\"colorbar\": {\"outlinewidth\": 0, \"ticks\": \"\"}, \"type\": \"mesh3d\"}], \"parcoords\": [{\"line\": {\"colorbar\": {\"outlinewidth\": 0, \"ticks\": \"\"}}, \"type\": \"parcoords\"}], \"scatter\": [{\"marker\": {\"colorbar\": {\"outlinewidth\": 0, \"ticks\": \"\"}}, \"type\": \"scatter\"}], \"scatter3d\": [{\"line\": {\"colorbar\": {\"outlinewidth\": 0, \"ticks\": \"\"}}, \"marker\": {\"colorbar\": {\"outlinewidth\": 0, \"ticks\": \"\"}}, \"type\": \"scatter3d\"}], \"scattercarpet\": [{\"marker\": {\"colorbar\": {\"outlinewidth\": 0, \"ticks\": \"\"}}, \"type\": \"scattercarpet\"}], \"scattergeo\": [{\"marker\": {\"colorbar\": {\"outlinewidth\": 0, \"ticks\": \"\"}}, \"type\": \"scattergeo\"}], \"scattergl\": [{\"marker\": {\"colorbar\": {\"outlinewidth\": 0, \"ticks\": \"\"}}, \"type\": \"scattergl\"}], \"scattermapbox\": [{\"marker\": {\"colorbar\": {\"outlinewidth\": 0, \"ticks\": \"\"}}, \"type\": \"scattermapbox\"}], \"scatterpolar\": [{\"marker\": {\"colorbar\": {\"outlinewidth\": 0, \"ticks\": \"\"}}, \"type\": \"scatterpolar\"}], \"scatterpolargl\": [{\"marker\": {\"colorbar\": {\"outlinewidth\": 0, \"ticks\": \"\"}}, \"type\": \"scatterpolargl\"}], \"scatterternary\": [{\"marker\": {\"colorbar\": {\"outlinewidth\": 0, \"ticks\": \"\"}}, \"type\": \"scatterternary\"}], \"surface\": [{\"colorbar\": {\"outlinewidth\": 0, \"ticks\": \"\"}, \"colorscale\": [[0.0, \"#0d0887\"], [0.1111111111111111, \"#46039f\"], [0.2222222222222222, \"#7201a8\"], [0.3333333333333333, \"#9c179e\"], [0.4444444444444444, \"#bd3786\"], [0.5555555555555556, \"#d8576b\"], [0.6666666666666666, \"#ed7953\"], [0.7777777777777778, \"#fb9f3a\"], [0.8888888888888888, \"#fdca26\"], [1.0, \"#f0f921\"]], \"type\": \"surface\"}], \"table\": [{\"cells\": {\"fill\": {\"color\": \"#EBF0F8\"}, \"line\": {\"color\": \"white\"}}, \"header\": {\"fill\": {\"color\": \"#C8D4E3\"}, \"line\": {\"color\": \"white\"}}, \"type\": \"table\"}]}, \"layout\": {\"annotationdefaults\": {\"arrowcolor\": \"#2a3f5f\", \"arrowhead\": 0, \"arrowwidth\": 1}, \"colorscale\": {\"diverging\": [[0, \"#8e0152\"], [0.1, \"#c51b7d\"], [0.2, \"#de77ae\"], [0.3, \"#f1b6da\"], [0.4, \"#fde0ef\"], [0.5, \"#f7f7f7\"], [0.6, \"#e6f5d0\"], [0.7, \"#b8e186\"], [0.8, \"#7fbc41\"], [0.9, \"#4d9221\"], [1, \"#276419\"]], \"sequential\": [[0.0, \"#0d0887\"], [0.1111111111111111, \"#46039f\"], [0.2222222222222222, \"#7201a8\"], [0.3333333333333333, \"#9c179e\"], [0.4444444444444444, \"#bd3786\"], [0.5555555555555556, \"#d8576b\"], [0.6666666666666666, \"#ed7953\"], [0.7777777777777778, \"#fb9f3a\"], [0.8888888888888888, \"#fdca26\"], [1.0, \"#f0f921\"]], \"sequentialminus\": [[0.0, \"#0d0887\"], [0.1111111111111111, \"#46039f\"], [0.2222222222222222, \"#7201a8\"], [0.3333333333333333, \"#9c179e\"], [0.4444444444444444, \"#bd3786\"], [0.5555555555555556, \"#d8576b\"], [0.6666666666666666, \"#ed7953\"], [0.7777777777777778, \"#fb9f3a\"], [0.8888888888888888, \"#fdca26\"], [1.0, \"#f0f921\"]]}, \"colorway\": [\"#636efa\", \"#EF553B\", \"#00cc96\", \"#ab63fa\", \"#FFA15A\", \"#19d3f3\", \"#FF6692\", \"#B6E880\", \"#FF97FF\", \"#FECB52\"], \"font\": {\"color\": \"#2a3f5f\"}, \"geo\": {\"bgcolor\": \"white\", \"lakecolor\": \"white\", \"landcolor\": \"#E5ECF6\", \"showlakes\": true, \"showland\": true, \"subunitcolor\": \"white\"}, \"hoverlabel\": {\"align\": \"left\"}, \"hovermode\": \"closest\", \"mapbox\": {\"style\": \"light\"}, \"paper_bgcolor\": \"white\", \"plot_bgcolor\": \"#E5ECF6\", \"polar\": {\"angularaxis\": {\"gridcolor\": \"white\", \"linecolor\": \"white\", \"ticks\": \"\"}, \"bgcolor\": \"#E5ECF6\", \"radialaxis\": {\"gridcolor\": \"white\", \"linecolor\": \"white\", \"ticks\": \"\"}}, \"scene\": {\"xaxis\": {\"backgroundcolor\": \"#E5ECF6\", \"gridcolor\": \"white\", \"gridwidth\": 2, \"linecolor\": \"white\", \"showbackground\": true, \"ticks\": \"\", \"zerolinecolor\": \"white\"}, \"yaxis\": {\"backgroundcolor\": \"#E5ECF6\", \"gridcolor\": \"white\", \"gridwidth\": 2, \"linecolor\": \"white\", \"showbackground\": true, \"ticks\": \"\", \"zerolinecolor\": \"white\"}, \"zaxis\": {\"backgroundcolor\": \"#E5ECF6\", \"gridcolor\": \"white\", \"gridwidth\": 2, \"linecolor\": \"white\", \"showbackground\": true, \"ticks\": \"\", \"zerolinecolor\": \"white\"}}, \"shapedefaults\": {\"line\": {\"color\": \"#2a3f5f\"}}, \"ternary\": {\"aaxis\": {\"gridcolor\": \"white\", \"linecolor\": \"white\", \"ticks\": \"\"}, \"baxis\": {\"gridcolor\": \"white\", \"linecolor\": \"white\", \"ticks\": \"\"}, \"bgcolor\": \"#E5ECF6\", \"caxis\": {\"gridcolor\": \"white\", \"linecolor\": \"white\", \"ticks\": \"\"}}, \"title\": {\"x\": 0.05}, \"xaxis\": {\"automargin\": true, \"gridcolor\": \"white\", \"linecolor\": \"white\", \"ticks\": \"\", \"zerolinecolor\": \"white\", \"zerolinewidth\": 2}, \"yaxis\": {\"automargin\": true, \"gridcolor\": \"white\", \"linecolor\": \"white\", \"ticks\": \"\", \"zerolinecolor\": \"white\", \"zerolinewidth\": 2}}}, \"xaxis\": {\"anchor\": \"y\", \"domain\": [0.0, 0.98], \"title\": {\"text\": \"bias\"}}, \"yaxis\": {\"anchor\": \"x\", \"domain\": [0.0, 1.0], \"title\": {\"text\": \"log-odds\"}}},\n",
       "                        {\"responsive\": true}\n",
       "                    ).then(function(){\n",
       "                            \n",
       "var gd = document.getElementById('deed5846-2aa5-421a-a3f4-5472bde2a3ea');\n",
       "var x = new MutationObserver(function (mutations, observer) {{\n",
       "        var display = window.getComputedStyle(gd).display;\n",
       "        if (!display || display === 'none') {{\n",
       "            console.log([gd, 'removed!']);\n",
       "            Plotly.purge(gd);\n",
       "            observer.disconnect();\n",
       "        }}\n",
       "}});\n",
       "\n",
       "// Listen for the removal of the full notebook cells\n",
       "var notebookContainer = gd.closest('#notebook-container');\n",
       "if (notebookContainer) {{\n",
       "    x.observe(notebookContainer, {childList: true});\n",
       "}}\n",
       "\n",
       "// Listen for the clearing of the current output cell\n",
       "var outputEl = gd.closest('.output');\n",
       "if (outputEl) {{\n",
       "    x.observe(outputEl, {childList: true});\n",
       "}}\n",
       "\n",
       "                        })\n",
       "                };\n",
       "                });\n",
       "            </script>\n",
       "        </div>"
      ]
     },
     "metadata": {},
     "output_type": "display_data"
    },
    {
     "data": {
      "image/png": "[encoded data removed]",
      "text/plain": [
       "<Figure size 432x2160 with 2 Axes>"
      ]
     },
     "metadata": {
      "needs_background": "light"
     },
     "output_type": "display_data"
    },
    {
     "data": {
      "image/png": "[encoded data removed]",
      "text/plain": [
       "<Figure size 432x2160 with 2 Axes>"
      ]
     },
     "metadata": {
      "needs_background": "light"
     },
     "output_type": "display_data"
    },
    {
     "data": {
      "image/png": "[encoded data removed]",
      "text/plain": [
       "<Figure size 432x2160 with 2 Axes>"
      ]
     },
     "metadata": {
      "needs_background": "light"
     },
     "output_type": "display_data"
    },
    {
     "data": {
      "image/png": "[encoded data removed]",
      "text/plain": [
       "<Figure size 432x2160 with 2 Axes>"
      ]
     },
     "metadata": {
      "needs_background": "light"
     },
     "output_type": "display_data"
    }
   ],
   "source": [
    "base_folder = \"results/20191016_neuron_intervention_medium/\"\n",
    "\n",
    "female_df = get_all_effects(base_folder)\n",
    "get_profession_correlation(female_df)\n",
    "\n",
    "male_df = get_all_effects(base_folder, 'man')\n",
    "get_profession_correlation(male_df, 'man')"
   ]
  },
  {
   "cell_type": "code",
   "execution_count": 139,
   "metadata": {},
   "outputs": [
    {
     "data": {
      "text/html": [
       "<div>\n",
       "<style scoped>\n",
       "    .dataframe tbody tr th:only-of-type {\n",
       "        vertical-align: middle;\n",
       "    }\n",
       "\n",
       "    .dataframe tbody tr th {\n",
       "        vertical-align: top;\n",
       "    }\n",
       "\n",
       "    .dataframe thead th {\n",
       "        text-align: right;\n",
       "    }\n",
       "</style>\n",
       "<table border=\"1\" class=\"dataframe\">\n",
       "  <thead>\n",
       "    <tr style=\"text-align: right;\">\n",
       "      <th></th>\n",
       "      <th>neuron_direct</th>\n",
       "      <th>odds_ratio_indirect</th>\n",
       "      <th>odds_ratio_direct</th>\n",
       "      <th>total_effect</th>\n",
       "    </tr>\n",
       "    <tr>\n",
       "      <th>layer_direct</th>\n",
       "      <th></th>\n",
       "      <th></th>\n",
       "      <th></th>\n",
       "      <th></th>\n",
       "    </tr>\n",
       "  </thead>\n",
       "  <tbody>\n",
       "    <tr>\n",
       "      <th>0</th>\n",
       "      <td>511.5</td>\n",
       "      <td>1.000404</td>\n",
       "      <td>16.965390</td>\n",
       "      <td>16.965794</td>\n",
       "    </tr>\n",
       "    <tr>\n",
       "      <th>1</th>\n",
       "      <td>511.5</td>\n",
       "      <td>1.000543</td>\n",
       "      <td>16.962256</td>\n",
       "      <td>16.962799</td>\n",
       "    </tr>\n",
       "    <tr>\n",
       "      <th>2</th>\n",
       "      <td>511.5</td>\n",
       "      <td>1.000452</td>\n",
       "      <td>16.963950</td>\n",
       "      <td>16.964402</td>\n",
       "    </tr>\n",
       "    <tr>\n",
       "      <th>3</th>\n",
       "      <td>511.5</td>\n",
       "      <td>1.000636</td>\n",
       "      <td>16.965009</td>\n",
       "      <td>16.965644</td>\n",
       "    </tr>\n",
       "    <tr>\n",
       "      <th>4</th>\n",
       "      <td>511.5</td>\n",
       "      <td>1.000639</td>\n",
       "      <td>16.972374</td>\n",
       "      <td>16.973013</td>\n",
       "    </tr>\n",
       "    <tr>\n",
       "      <th>5</th>\n",
       "      <td>511.5</td>\n",
       "      <td>1.000590</td>\n",
       "      <td>16.974941</td>\n",
       "      <td>16.975531</td>\n",
       "    </tr>\n",
       "    <tr>\n",
       "      <th>6</th>\n",
       "      <td>511.5</td>\n",
       "      <td>1.000602</td>\n",
       "      <td>16.974182</td>\n",
       "      <td>16.974784</td>\n",
       "    </tr>\n",
       "    <tr>\n",
       "      <th>7</th>\n",
       "      <td>511.5</td>\n",
       "      <td>1.000593</td>\n",
       "      <td>16.967110</td>\n",
       "      <td>16.967703</td>\n",
       "    </tr>\n",
       "    <tr>\n",
       "      <th>8</th>\n",
       "      <td>511.5</td>\n",
       "      <td>1.000495</td>\n",
       "      <td>16.972534</td>\n",
       "      <td>16.973029</td>\n",
       "    </tr>\n",
       "    <tr>\n",
       "      <th>9</th>\n",
       "      <td>511.5</td>\n",
       "      <td>1.000567</td>\n",
       "      <td>16.974530</td>\n",
       "      <td>16.975096</td>\n",
       "    </tr>\n",
       "    <tr>\n",
       "      <th>10</th>\n",
       "      <td>511.5</td>\n",
       "      <td>1.000489</td>\n",
       "      <td>16.978367</td>\n",
       "      <td>16.978856</td>\n",
       "    </tr>\n",
       "    <tr>\n",
       "      <th>11</th>\n",
       "      <td>511.5</td>\n",
       "      <td>1.000491</td>\n",
       "      <td>16.995508</td>\n",
       "      <td>16.996000</td>\n",
       "    </tr>\n",
       "    <tr>\n",
       "      <th>12</th>\n",
       "      <td>511.5</td>\n",
       "      <td>1.000408</td>\n",
       "      <td>16.976973</td>\n",
       "      <td>16.977381</td>\n",
       "    </tr>\n",
       "    <tr>\n",
       "      <th>13</th>\n",
       "      <td>511.5</td>\n",
       "      <td>1.000453</td>\n",
       "      <td>17.018243</td>\n",
       "      <td>17.018696</td>\n",
       "    </tr>\n",
       "    <tr>\n",
       "      <th>14</th>\n",
       "      <td>511.5</td>\n",
       "      <td>1.000404</td>\n",
       "      <td>17.018344</td>\n",
       "      <td>17.018748</td>\n",
       "    </tr>\n",
       "    <tr>\n",
       "      <th>15</th>\n",
       "      <td>511.5</td>\n",
       "      <td>1.000393</td>\n",
       "      <td>17.039485</td>\n",
       "      <td>17.039879</td>\n",
       "    </tr>\n",
       "    <tr>\n",
       "      <th>16</th>\n",
       "      <td>511.5</td>\n",
       "      <td>1.000064</td>\n",
       "      <td>17.035992</td>\n",
       "      <td>17.036056</td>\n",
       "    </tr>\n",
       "    <tr>\n",
       "      <th>17</th>\n",
       "      <td>511.5</td>\n",
       "      <td>1.000042</td>\n",
       "      <td>17.033416</td>\n",
       "      <td>17.033458</td>\n",
       "    </tr>\n",
       "    <tr>\n",
       "      <th>18</th>\n",
       "      <td>511.5</td>\n",
       "      <td>0.999992</td>\n",
       "      <td>16.977428</td>\n",
       "      <td>16.977420</td>\n",
       "    </tr>\n",
       "    <tr>\n",
       "      <th>19</th>\n",
       "      <td>511.5</td>\n",
       "      <td>0.999988</td>\n",
       "      <td>16.978054</td>\n",
       "      <td>16.978042</td>\n",
       "    </tr>\n",
       "    <tr>\n",
       "      <th>20</th>\n",
       "      <td>511.5</td>\n",
       "      <td>0.999994</td>\n",
       "      <td>16.978072</td>\n",
       "      <td>16.978066</td>\n",
       "    </tr>\n",
       "    <tr>\n",
       "      <th>21</th>\n",
       "      <td>511.5</td>\n",
       "      <td>0.999986</td>\n",
       "      <td>16.977947</td>\n",
       "      <td>16.977932</td>\n",
       "    </tr>\n",
       "    <tr>\n",
       "      <th>22</th>\n",
       "      <td>511.5</td>\n",
       "      <td>0.999990</td>\n",
       "      <td>16.977844</td>\n",
       "      <td>16.977835</td>\n",
       "    </tr>\n",
       "    <tr>\n",
       "      <th>23</th>\n",
       "      <td>511.5</td>\n",
       "      <td>1.000000</td>\n",
       "      <td>16.978408</td>\n",
       "      <td>16.978408</td>\n",
       "    </tr>\n",
       "  </tbody>\n",
       "</table>\n",
       "</div>"
      ],
      "text/plain": [
       "              neuron_direct  odds_ratio_indirect  odds_ratio_direct  \\\n",
       "layer_direct                                                          \n",
       "0                     511.5             1.000404          16.965390   \n",
       "1                     511.5             1.000543          16.962256   \n",
       "2                     511.5             1.000452          16.963950   \n",
       "3                     511.5             1.000636          16.965009   \n",
       "4                     511.5             1.000639          16.972374   \n",
       "5                     511.5             1.000590          16.974941   \n",
       "6                     511.5             1.000602          16.974182   \n",
       "7                     511.5             1.000593          16.967110   \n",
       "8                     511.5             1.000495          16.972534   \n",
       "9                     511.5             1.000567          16.974530   \n",
       "10                    511.5             1.000489          16.978367   \n",
       "11                    511.5             1.000491          16.995508   \n",
       "12                    511.5             1.000408          16.976973   \n",
       "13                    511.5             1.000453          17.018243   \n",
       "14                    511.5             1.000404          17.018344   \n",
       "15                    511.5             1.000393          17.039485   \n",
       "16                    511.5             1.000064          17.035992   \n",
       "17                    511.5             1.000042          17.033416   \n",
       "18                    511.5             0.999992          16.977428   \n",
       "19                    511.5             0.999988          16.978054   \n",
       "20                    511.5             0.999994          16.978072   \n",
       "21                    511.5             0.999986          16.977947   \n",
       "22                    511.5             0.999990          16.977844   \n",
       "23                    511.5             1.000000          16.978408   \n",
       "\n",
       "              total_effect  \n",
       "layer_direct                \n",
       "0                16.965794  \n",
       "1                16.962799  \n",
       "2                16.964402  \n",
       "3                16.965644  \n",
       "4                16.973013  \n",
       "5                16.975531  \n",
       "6                16.974784  \n",
       "7                16.967703  \n",
       "8                16.973029  \n",
       "9                16.975096  \n",
       "10               16.978856  \n",
       "11               16.996000  \n",
       "12               16.977381  \n",
       "13               17.018696  \n",
       "14               17.018748  \n",
       "15               17.039879  \n",
       "16               17.036056  \n",
       "17               17.033458  \n",
       "18               16.977420  \n",
       "19               16.978042  \n",
       "20               16.978066  \n",
       "21               16.977932  \n",
       "22               16.977835  \n",
       "23               16.978408  "
      ]
     },
     "execution_count": 139,
     "metadata": {},
     "output_type": "execute_result"
    }
   ],
   "source": [
    "male_df.groupby('layer_direct').agg('mean')"
   ]
  },
  {
   "cell_type": "code",
   "execution_count": 140,
   "metadata": {},
   "outputs": [
    {
     "data": {
      "text/html": [
       "<div>\n",
       "<style scoped>\n",
       "    .dataframe tbody tr th:only-of-type {\n",
       "        vertical-align: middle;\n",
       "    }\n",
       "\n",
       "    .dataframe tbody tr th {\n",
       "        vertical-align: top;\n",
       "    }\n",
       "\n",
       "    .dataframe thead th {\n",
       "        text-align: right;\n",
       "    }\n",
       "</style>\n",
       "<table border=\"1\" class=\"dataframe\">\n",
       "  <thead>\n",
       "    <tr style=\"text-align: right;\">\n",
       "      <th></th>\n",
       "      <th>neuron_direct</th>\n",
       "      <th>odds_ratio_indirect</th>\n",
       "      <th>odds_ratio_direct</th>\n",
       "      <th>total_effect</th>\n",
       "    </tr>\n",
       "    <tr>\n",
       "      <th>layer_direct</th>\n",
       "      <th></th>\n",
       "      <th></th>\n",
       "      <th></th>\n",
       "      <th></th>\n",
       "    </tr>\n",
       "  </thead>\n",
       "  <tbody>\n",
       "    <tr>\n",
       "      <th>0</th>\n",
       "      <td>511.5</td>\n",
       "      <td>1.001340</td>\n",
       "      <td>74.448923</td>\n",
       "      <td>74.450263</td>\n",
       "    </tr>\n",
       "    <tr>\n",
       "      <th>1</th>\n",
       "      <td>511.5</td>\n",
       "      <td>1.001293</td>\n",
       "      <td>74.439175</td>\n",
       "      <td>74.440468</td>\n",
       "    </tr>\n",
       "    <tr>\n",
       "      <th>2</th>\n",
       "      <td>511.5</td>\n",
       "      <td>1.002043</td>\n",
       "      <td>74.451571</td>\n",
       "      <td>74.453615</td>\n",
       "    </tr>\n",
       "    <tr>\n",
       "      <th>3</th>\n",
       "      <td>511.5</td>\n",
       "      <td>1.001372</td>\n",
       "      <td>74.472657</td>\n",
       "      <td>74.474029</td>\n",
       "    </tr>\n",
       "    <tr>\n",
       "      <th>4</th>\n",
       "      <td>511.5</td>\n",
       "      <td>1.001100</td>\n",
       "      <td>74.481900</td>\n",
       "      <td>74.483000</td>\n",
       "    </tr>\n",
       "    <tr>\n",
       "      <th>5</th>\n",
       "      <td>511.5</td>\n",
       "      <td>1.001122</td>\n",
       "      <td>74.501057</td>\n",
       "      <td>74.502179</td>\n",
       "    </tr>\n",
       "    <tr>\n",
       "      <th>6</th>\n",
       "      <td>511.5</td>\n",
       "      <td>1.001151</td>\n",
       "      <td>74.520028</td>\n",
       "      <td>74.521179</td>\n",
       "    </tr>\n",
       "    <tr>\n",
       "      <th>7</th>\n",
       "      <td>511.5</td>\n",
       "      <td>1.001205</td>\n",
       "      <td>74.494192</td>\n",
       "      <td>74.495397</td>\n",
       "    </tr>\n",
       "    <tr>\n",
       "      <th>8</th>\n",
       "      <td>511.5</td>\n",
       "      <td>1.001062</td>\n",
       "      <td>74.518005</td>\n",
       "      <td>74.519067</td>\n",
       "    </tr>\n",
       "    <tr>\n",
       "      <th>9</th>\n",
       "      <td>511.5</td>\n",
       "      <td>1.000980</td>\n",
       "      <td>74.523310</td>\n",
       "      <td>74.524290</td>\n",
       "    </tr>\n",
       "    <tr>\n",
       "      <th>10</th>\n",
       "      <td>511.5</td>\n",
       "      <td>1.000948</td>\n",
       "      <td>74.529651</td>\n",
       "      <td>74.530599</td>\n",
       "    </tr>\n",
       "    <tr>\n",
       "      <th>11</th>\n",
       "      <td>511.5</td>\n",
       "      <td>1.000820</td>\n",
       "      <td>74.560524</td>\n",
       "      <td>74.561344</td>\n",
       "    </tr>\n",
       "    <tr>\n",
       "      <th>12</th>\n",
       "      <td>511.5</td>\n",
       "      <td>1.000999</td>\n",
       "      <td>74.577278</td>\n",
       "      <td>74.578277</td>\n",
       "    </tr>\n",
       "    <tr>\n",
       "      <th>13</th>\n",
       "      <td>511.5</td>\n",
       "      <td>1.000659</td>\n",
       "      <td>74.530226</td>\n",
       "      <td>74.530886</td>\n",
       "    </tr>\n",
       "    <tr>\n",
       "      <th>14</th>\n",
       "      <td>511.5</td>\n",
       "      <td>1.000594</td>\n",
       "      <td>74.537605</td>\n",
       "      <td>74.538199</td>\n",
       "    </tr>\n",
       "    <tr>\n",
       "      <th>15</th>\n",
       "      <td>511.5</td>\n",
       "      <td>1.000551</td>\n",
       "      <td>74.574501</td>\n",
       "      <td>74.575053</td>\n",
       "    </tr>\n",
       "    <tr>\n",
       "      <th>16</th>\n",
       "      <td>511.5</td>\n",
       "      <td>1.000275</td>\n",
       "      <td>74.599870</td>\n",
       "      <td>74.600145</td>\n",
       "    </tr>\n",
       "    <tr>\n",
       "      <th>17</th>\n",
       "      <td>511.5</td>\n",
       "      <td>1.000239</td>\n",
       "      <td>74.618872</td>\n",
       "      <td>74.619111</td>\n",
       "    </tr>\n",
       "    <tr>\n",
       "      <th>18</th>\n",
       "      <td>511.5</td>\n",
       "      <td>1.000040</td>\n",
       "      <td>74.456353</td>\n",
       "      <td>74.456393</td>\n",
       "    </tr>\n",
       "    <tr>\n",
       "      <th>19</th>\n",
       "      <td>511.5</td>\n",
       "      <td>1.000008</td>\n",
       "      <td>74.459534</td>\n",
       "      <td>74.459542</td>\n",
       "    </tr>\n",
       "    <tr>\n",
       "      <th>20</th>\n",
       "      <td>511.5</td>\n",
       "      <td>0.999996</td>\n",
       "      <td>74.460791</td>\n",
       "      <td>74.460787</td>\n",
       "    </tr>\n",
       "    <tr>\n",
       "      <th>21</th>\n",
       "      <td>511.5</td>\n",
       "      <td>1.000010</td>\n",
       "      <td>74.460698</td>\n",
       "      <td>74.460708</td>\n",
       "    </tr>\n",
       "    <tr>\n",
       "      <th>22</th>\n",
       "      <td>511.5</td>\n",
       "      <td>1.000006</td>\n",
       "      <td>74.461904</td>\n",
       "      <td>74.461911</td>\n",
       "    </tr>\n",
       "    <tr>\n",
       "      <th>23</th>\n",
       "      <td>511.5</td>\n",
       "      <td>1.000000</td>\n",
       "      <td>74.461932</td>\n",
       "      <td>74.461932</td>\n",
       "    </tr>\n",
       "  </tbody>\n",
       "</table>\n",
       "</div>"
      ],
      "text/plain": [
       "              neuron_direct  odds_ratio_indirect  odds_ratio_direct  \\\n",
       "layer_direct                                                          \n",
       "0                     511.5             1.001340          74.448923   \n",
       "1                     511.5             1.001293          74.439175   \n",
       "2                     511.5             1.002043          74.451571   \n",
       "3                     511.5             1.001372          74.472657   \n",
       "4                     511.5             1.001100          74.481900   \n",
       "5                     511.5             1.001122          74.501057   \n",
       "6                     511.5             1.001151          74.520028   \n",
       "7                     511.5             1.001205          74.494192   \n",
       "8                     511.5             1.001062          74.518005   \n",
       "9                     511.5             1.000980          74.523310   \n",
       "10                    511.5             1.000948          74.529651   \n",
       "11                    511.5             1.000820          74.560524   \n",
       "12                    511.5             1.000999          74.577278   \n",
       "13                    511.5             1.000659          74.530226   \n",
       "14                    511.5             1.000594          74.537605   \n",
       "15                    511.5             1.000551          74.574501   \n",
       "16                    511.5             1.000275          74.599870   \n",
       "17                    511.5             1.000239          74.618872   \n",
       "18                    511.5             1.000040          74.456353   \n",
       "19                    511.5             1.000008          74.459534   \n",
       "20                    511.5             0.999996          74.460791   \n",
       "21                    511.5             1.000010          74.460698   \n",
       "22                    511.5             1.000006          74.461904   \n",
       "23                    511.5             1.000000          74.461932   \n",
       "\n",
       "              total_effect  \n",
       "layer_direct                \n",
       "0                74.450263  \n",
       "1                74.440468  \n",
       "2                74.453615  \n",
       "3                74.474029  \n",
       "4                74.483000  \n",
       "5                74.502179  \n",
       "6                74.521179  \n",
       "7                74.495397  \n",
       "8                74.519067  \n",
       "9                74.524290  \n",
       "10               74.530599  \n",
       "11               74.561344  \n",
       "12               74.578277  \n",
       "13               74.530886  \n",
       "14               74.538199  \n",
       "15               74.575053  \n",
       "16               74.600145  \n",
       "17               74.619111  \n",
       "18               74.456393  \n",
       "19               74.459542  \n",
       "20               74.460787  \n",
       "21               74.460708  \n",
       "22               74.461911  \n",
       "23               74.461932  "
      ]
     },
     "execution_count": 140,
     "metadata": {},
     "output_type": "execute_result"
    }
   ],
   "source": [
    "female_df.groupby('layer_direct').agg('mean')"
   ]
  },
  {
   "cell_type": "code",
   "execution_count": 141,
   "metadata": {},
   "outputs": [
    {
     "data": {
      "text/html": [
       "<div>\n",
       "<style scoped>\n",
       "    .dataframe tbody tr th:only-of-type {\n",
       "        vertical-align: middle;\n",
       "    }\n",
       "\n",
       "    .dataframe tbody tr th {\n",
       "        vertical-align: top;\n",
       "    }\n",
       "\n",
       "    .dataframe thead th {\n",
       "        text-align: right;\n",
       "    }\n",
       "</style>\n",
       "<table border=\"1\" class=\"dataframe\">\n",
       "  <thead>\n",
       "    <tr style=\"text-align: right;\">\n",
       "      <th></th>\n",
       "      <th>layer_direct</th>\n",
       "      <th>neuron_direct</th>\n",
       "      <th>odds_ratio_indirect</th>\n",
       "      <th>odds_ratio_direct</th>\n",
       "      <th>total_effect</th>\n",
       "    </tr>\n",
       "    <tr>\n",
       "      <th>base_string_direct</th>\n",
       "      <th></th>\n",
       "      <th></th>\n",
       "      <th></th>\n",
       "      <th></th>\n",
       "      <th></th>\n",
       "    </tr>\n",
       "  </thead>\n",
       "  <tbody>\n",
       "    <tr>\n",
       "      <th>The accountant said that</th>\n",
       "      <td>11.5</td>\n",
       "      <td>511.5</td>\n",
       "      <td>1.000296</td>\n",
       "      <td>7.933181</td>\n",
       "      <td>7.933476</td>\n",
       "    </tr>\n",
       "    <tr>\n",
       "      <th>The acquaintance said that</th>\n",
       "      <td>11.5</td>\n",
       "      <td>511.5</td>\n",
       "      <td>1.000169</td>\n",
       "      <td>9.514029</td>\n",
       "      <td>9.514199</td>\n",
       "    </tr>\n",
       "    <tr>\n",
       "      <th>The actor said that</th>\n",
       "      <td>11.5</td>\n",
       "      <td>511.5</td>\n",
       "      <td>1.000386</td>\n",
       "      <td>1.397865</td>\n",
       "      <td>1.398251</td>\n",
       "    </tr>\n",
       "    <tr>\n",
       "      <th>The actress said that</th>\n",
       "      <td>11.5</td>\n",
       "      <td>511.5</td>\n",
       "      <td>1.001321</td>\n",
       "      <td>1047.738147</td>\n",
       "      <td>1047.739467</td>\n",
       "    </tr>\n",
       "    <tr>\n",
       "      <th>The administrator said that</th>\n",
       "      <td>11.5</td>\n",
       "      <td>511.5</td>\n",
       "      <td>1.000269</td>\n",
       "      <td>8.104747</td>\n",
       "      <td>8.105016</td>\n",
       "    </tr>\n",
       "  </tbody>\n",
       "</table>\n",
       "</div>"
      ],
      "text/plain": [
       "                             layer_direct  neuron_direct  odds_ratio_indirect  \\\n",
       "base_string_direct                                                              \n",
       "The accountant said that             11.5          511.5             1.000296   \n",
       "The acquaintance said that           11.5          511.5             1.000169   \n",
       "The actor said that                  11.5          511.5             1.000386   \n",
       "The actress said that                11.5          511.5             1.001321   \n",
       "The administrator said that          11.5          511.5             1.000269   \n",
       "\n",
       "                             odds_ratio_direct  total_effect  \n",
       "base_string_direct                                            \n",
       "The accountant said that              7.933181      7.933476  \n",
       "The acquaintance said that            9.514029      9.514199  \n",
       "The actor said that                   1.397865      1.398251  \n",
       "The actress said that              1047.738147   1047.739467  \n",
       "The administrator said that           8.104747      8.105016  "
      ]
     },
     "execution_count": 141,
     "metadata": {},
     "output_type": "execute_result"
    }
   ],
   "source": [
    "male_df.groupby('base_string_direct').agg('mean').head()"
   ]
  },
  {
   "cell_type": "code",
   "execution_count": 142,
   "metadata": {},
   "outputs": [],
   "source": [
    "# Get the effects on (fe)male words\n",
    "def get_directional_effect(df, direction=\"woman\"):\n",
    "    def is_direction(effect, direction):\n",
    "        if direction=='woman' and effect > 0.1:\n",
    "            return True\n",
    "        elif direction=='man' and effect < -0.1:\n",
    "            return True\n",
    "        return False\n",
    "    \n",
    "    indirects = []\n",
    "    directs = []\n",
    "    totals = []\n",
    "    labels = []\n",
    "    total_by_ex = df.groupby('base_string_direct').agg('mean')\n",
    "    for index, row in total_by_ex.iterrows():\n",
    "        example_effect = profession_stereotypicality[index.split()[1]]['max']\n",
    "        if is_direction(example_effect, direction):\n",
    "            labels.append(index.split()[1])\n",
    "            totals.append(row['total_effect'])\n",
    "            directs.append(row['odds_ratio_direct'])\n",
    "            indirects.append(row['odds_ratio_indirect'])\n",
    "    #     x_vals.append(profession_stereotypicality[index.split()[1]]['max'])\n",
    "    total_df = pd.DataFrame({'example': labels, \n",
    "                             'indirect': indirects,\n",
    "                             'direct': directs,\n",
    "                             'odds': totals})\n",
    "    return total_df\n",
    "\n",
    "female_total_df = get_directional_effect(female_df)\n",
    "male_total_df = get_directional_effect(male_df, 'man')\n",
    "overall_total_df = pd.concat([male_total_df, female_total_df])"
   ]
  },
  {
   "cell_type": "code",
   "execution_count": 143,
   "metadata": {},
   "outputs": [
    {
     "data": {
      "text/plain": [
       "indirect     1.000636\n",
       "direct      57.336398\n",
       "odds        57.336824\n",
       "dtype: float64"
      ]
     },
     "execution_count": 143,
     "metadata": {},
     "output_type": "execute_result"
    }
   ],
   "source": [
    "overall_total_df.median()"
   ]
  },
  {
   "cell_type": "code",
   "execution_count": 144,
   "metadata": {},
   "outputs": [
    {
     "data": {
      "image/png": "[encoded data removed]",
      "text/plain": [
       "<Figure size 720x720 with 4 Axes>"
      ]
     },
     "metadata": {
      "needs_background": "light"
     },
     "output_type": "display_data"
    }
   ],
   "source": [
    "overall_total_df.hist(figsize=(10,10))\n",
    "plt.show()"
   ]
  },
  {
   "cell_type": "code",
   "execution_count": null,
   "metadata": {},
   "outputs": [],
   "source": []
  }
 ],
 "metadata": {
  "kernelspec": {
   "display_name": "Python 3",
   "language": "python",
   "name": "python3"
  },
  "language_info": {
   "codemirror_mode": {
    "name": "ipython",
    "version": 3
   },
   "file_extension": ".py",
   "mimetype": "text/x-python",
   "name": "python",
   "nbconvert_exporter": "python",
   "pygments_lexer": "ipython3",
   "version": "3.6.2"
  }
 },
 "nbformat": 4,
 "nbformat_minor": 2
}
