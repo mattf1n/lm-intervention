{
 "cells": [
  {
   "cell_type": "code",
   "execution_count": 2,
   "metadata": {},
   "outputs": [
    {
     "data": {
      "text/plain": [
       "<torch._C.Generator at 0x10bcc3f70>"
      ]
     },
     "execution_count": 2,
     "metadata": {},
     "output_type": "execute_result"
    }
   ],
   "source": [
    "import torch\n",
    "from pytorch_transformers import GPT2LMHeadModel, GPT2Tokenizer\n",
    "from tqdm import tqdm_notebook\n",
    "import torch.nn.functional as F\n",
    "import numpy as np\n",
    "import matplotlib.pyplot as plt\n",
    "import seaborn as sns; sns.set()\n",
    "from IPython.core.display import display, HTML\n",
    "import math\n",
    "\n",
    "np.random.seed(1)\n",
    "torch.manual_seed(1)"
   ]
  },
  {
   "cell_type": "code",
   "execution_count": 3,
   "metadata": {},
   "outputs": [],
   "source": [
    "from experiment import Intervention, Model"
   ]
  },
  {
   "cell_type": "code",
   "execution_count": 4,
   "metadata": {},
   "outputs": [],
   "source": [
    "tokenizer = GPT2Tokenizer.from_pretrained('gpt2')\n",
    "model = Model()"
   ]
  },
  {
   "cell_type": "markdown",
   "metadata": {},
   "source": [
    "## Run experiment"
   ]
  },
  {
   "cell_type": "markdown",
   "metadata": {},
   "source": [
    "#### Set parameters of initial experiment"
   ]
  },
  {
   "cell_type": "code",
   "execution_count": 5,
   "metadata": {},
   "outputs": [],
   "source": [
    "base_sentence = \"The {} said that\"\n",
    "biased_word = \"teacher\"\n",
    "intervention = Intervention(\n",
    "    tokenizer,\n",
    "    base_sentence,\n",
    "    [biased_word, \"man\", \"woman\"],\n",
    "    [\"he\", \"she\"])"
   ]
  },
  {
   "cell_type": "markdown",
   "metadata": {},
   "source": [
    "#### Run intervention\n",
    "Erase each attention head in turn and measure change in candidate probabilities"
   ]
  },
  {
   "cell_type": "code",
   "execution_count": null,
   "metadata": {},
   "outputs": [],
   "source": [
    " \"\"\" Code draws on https://github.com/huggingface/pytorch-pretrained-BERT/blob/master/examples/run_gpt2.py \"\"\"\n",
    "with torch.no_grad():\n",
    "    '''\n",
    "    Now intervening on potentially biased example\n",
    "    '''\n",
    "    context = intervention.base_strings_tok[0]\n",
    "    '''\n",
    "    Probabilities without intervention (Base case)\n",
    "    '''\n",
    "    base_probs = model.get_probabilities_for_examples(\n",
    "        context,\n",
    "        intervention.candidates_tok)\n",
    "    print(\"Base case: {} ____\".format(intervention.base_strings[0]))\n",
    "    for token, prob in zip(intervention.candidates, base_probs):\n",
    "        print(\"{}: {:.2f}%\".format(token, prob * 100))\n",
    "\n",
    "    '''\n",
    "    Intervene at every possible layer / head\n",
    "    '''\n",
    "    candidate1_probs = torch.zeros((model.num_layers, model.num_heads))\n",
    "    candidate2_probs = torch.zeros((model.num_layers, model.num_heads))\n",
    "\n",
    "#     model.num_layers = 2\n",
    "#     model.num_heads = 2\n",
    "    for layer in tqdm_notebook(range(model.num_layers), desc='layers'):\n",
    "        for head in tqdm_notebook(range(model.num_heads), desc='heads'):\n",
    "            candidate1_prob, candidate2_prob = model.head_pruning_intervention(\n",
    "                context=context,\n",
    "                outputs=intervention.candidates_tok,\n",
    "                layer=layer,\n",
    "                head=head)\n",
    "            candidate1_probs[layer, head] = candidate1_prob * 100\n",
    "            candidate2_probs[layer, head] = candidate2_prob * 100"
   ]
  },
  {
   "cell_type": "markdown",
   "metadata": {},
   "source": [
    "#### Report results\n",
    "In each heatmap, rows correspond to layers and columns to heads. Each cell contains the odds ratio for the intervention of erasing the corresponding layer/head."
   ]
  },
  {
   "cell_type": "code",
   "execution_count": 7,
   "metadata": {},
   "outputs": [
    {
     "name": "stdout",
     "output_type": "stream",
     "text": [
      "Odds ratio: (p(\"HE\"|intervention) / p(\"SHE\"|intervention)) / (p(\"HE\") / p(\"SHE\"))\n"
     ]
    },
    {
     "data": {
      "image/png": "[encoded data removed]",
      "text/plain": [
       "<Figure size 648x648 with 2 Axes>"
      ]
     },
     "metadata": {
      "needs_background": "light"
     },
     "output_type": "display_data"
    }
   ],
   "source": [
    "candidate1 = intervention.candidates[0][1:].upper()\n",
    "candidate2 = intervention.candidates[1][1:].upper()\n",
    "candidate1_base_prob = base_probs[0]\n",
    "candidate2_base_prob = base_probs[1]\n",
    "\n",
    "odds_base = candidate1_base_prob / candidate2_base_prob\n",
    "odds_intervention = candidate1_probs / candidate2_probs\n",
    "odds_ratio = odds_intervention / odds_base\n",
    "\n",
    "print(f'Odds ratio: (p(\"{candidate1}\"|intervention) / p(\"{candidate2}\"|intervention)) / (p(\"{candidate1}\") / p(\"{candidate2}\"))')\n",
    "\n",
    "visualize = True\n",
    "if visualize:\n",
    "    plt.figure(figsize=(9,9)) \n",
    "    ax = sns.heatmap(odds_ratio, annot=True, annot_kws={\"size\": 12}, fmt=\".2f\")\n",
    "    ax.set_title(\"Odds ratio for attn head erasure intervention\", size=14)\n",
    "    ax.set(xlabel='Head', ylabel='Layer')\n",
    "else:\n",
    "    torch.set_printoptions(precision=1, sci_mode=False)\n",
    "    print(arr)"
   ]
  },
  {
   "cell_type": "code",
   "execution_count": null,
   "metadata": {},
   "outputs": [],
   "source": []
  }
 ],
 "metadata": {
  "kernelspec": {
   "display_name": "Python 3",
   "language": "python",
   "name": "python3"
  },
  "language_info": {
   "codemirror_mode": {
    "name": "ipython",
    "version": 3
   },
   "file_extension": ".py",
   "mimetype": "text/x-python",
   "name": "python",
   "nbconvert_exporter": "python",
   "pygments_lexer": "ipython3",
   "version": "3.6.2"
  },
  "pycharm": {
   "stem_cell": {
    "cell_type": "raw",
    "source": [],
    "metadata": {
     "collapsed": false
    }
   }
  }
 },
 "nbformat": 4,
 "nbformat_minor": 2
}